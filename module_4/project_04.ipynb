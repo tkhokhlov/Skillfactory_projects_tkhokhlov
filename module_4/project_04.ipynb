{
 "cells": [
  {
   "cell_type": "markdown",
   "metadata": {
    "papermill": {
     "duration": 0.059675,
     "end_time": "2021-01-20T19:28:20.470277",
     "exception": false,
     "start_time": "2021-01-20T19:28:20.410602",
     "status": "completed"
    },
    "tags": []
   },
   "source": [
    "# 41_group DST-27\n",
    "### Khokhlov Timofey"
   ]
  },
  {
   "cell_type": "markdown",
   "metadata": {
    "papermill": {
     "duration": 0.057268,
     "end_time": "2021-01-20T19:28:20.585388",
     "exception": false,
     "start_time": "2021-01-20T19:28:20.528120",
     "status": "completed"
    },
    "tags": []
   },
   "source": [
    "# **Импортируем библиотеки**"
   ]
  },
  {
   "cell_type": "code",
   "execution_count": 1,
   "metadata": {
    "_cell_guid": "b1076dfc-b9ad-4769-8c92-a6c4dae69d19",
    "_uuid": "8f2839f25d086af736a60e9eeb907d3b93b6e0e5",
    "execution": {
     "iopub.execute_input": "2021-01-20T19:28:20.714341Z",
     "iopub.status.busy": "2021-01-20T19:28:20.708988Z",
     "iopub.status.idle": "2021-01-20T19:28:22.363739Z",
     "shell.execute_reply": "2021-01-20T19:28:22.365052Z"
    },
    "papermill": {
     "duration": 1.72245,
     "end_time": "2021-01-20T19:28:22.365264",
     "exception": false,
     "start_time": "2021-01-20T19:28:20.642814",
     "status": "completed"
    },
    "tags": []
   },
   "outputs": [
    {
     "name": "stdout",
     "output_type": "stream",
     "text": [
      "/kaggle/input/sf-dst-scoring/sample_submission.csv\n",
      "/kaggle/input/sf-dst-scoring/train.csv\n",
      "/kaggle/input/sf-dst-scoring/test.csv\n"
     ]
    }
   ],
   "source": [
    "import warnings\n",
    "from pandas import Series\n",
    "import pandas as pd\n",
    "import numpy as np\n",
    "\n",
    "import matplotlib.pyplot as plt\n",
    "import seaborn as sns\n",
    "\n",
    "from sklearn.feature_selection import f_classif, mutual_info_classif\n",
    "from sklearn.preprocessing import LabelEncoder, OneHotEncoder, StandardScaler\n",
    "from sklearn.preprocessing import PolynomialFeatures\n",
    "\n",
    "from sklearn.model_selection import train_test_split\n",
    "from sklearn.linear_model import LogisticRegression\n",
    "\n",
    "from sklearn.model_selection import GridSearchCV\n",
    "\n",
    "from sklearn.metrics import confusion_matrix\n",
    "from sklearn.metrics import auc, roc_auc_score, roc_curve\n",
    "from sklearn.metrics import recall_score, precision_score, f1_score, log_loss\n",
    "from sklearn.metrics import accuracy_score\n",
    "\n",
    "\n",
    "import matplotlib\n",
    "plt.style.use('ggplot')\n",
    "%matplotlib inline\n",
    "matplotlib.rcParams['figure.figsize'] = (12, 8)\n",
    "\n",
    "pd.set_option('display.max_rows', 50)  # показывать больше строк\n",
    "pd.set_option('display.max_columns', 50)  # показывать больше колонок\n",
    "\n",
    "import os\n",
    "for dirname, _, filenames in os.walk('/kaggle/input'):\n",
    "    for filename in filenames:\n",
    "        print(os.path.join(dirname, filename))\n",
    "\n",
    "warnings.filterwarnings(\"ignore\")  # Убирает некритические сообщения"
   ]
  },
  {
   "cell_type": "code",
   "execution_count": 2,
   "metadata": {
    "execution": {
     "iopub.execute_input": "2021-01-20T19:28:22.492679Z",
     "iopub.status.busy": "2021-01-20T19:28:22.491794Z",
     "iopub.status.idle": "2021-01-20T19:28:25.386355Z",
     "shell.execute_reply": "2021-01-20T19:28:25.385776Z"
    },
    "papermill": {
     "duration": 2.962089,
     "end_time": "2021-01-20T19:28:25.386481",
     "exception": false,
     "start_time": "2021-01-20T19:28:22.424392",
     "status": "completed"
    },
    "tags": []
   },
   "outputs": [],
   "source": [
    "# Зафиксируем random_seed\n",
    "RANDOM_SEED = 42\n",
    "!pip freeze > requirements.txt"
   ]
  },
  {
   "cell_type": "markdown",
   "metadata": {
    "papermill": {
     "duration": 0.058693,
     "end_time": "2021-01-20T19:28:25.503463",
     "exception": false,
     "start_time": "2021-01-20T19:28:25.444770",
     "status": "completed"
    },
    "tags": []
   },
   "source": [
    "# **Загружаем датасет**"
   ]
  },
  {
   "cell_type": "code",
   "execution_count": 3,
   "metadata": {
    "execution": {
     "iopub.execute_input": "2021-01-20T19:28:25.628193Z",
     "iopub.status.busy": "2021-01-20T19:28:25.627478Z",
     "iopub.status.idle": "2021-01-20T19:28:25.980756Z",
     "shell.execute_reply": "2021-01-20T19:28:25.981878Z"
    },
    "papermill": {
     "duration": 0.420764,
     "end_time": "2021-01-20T19:28:25.982161",
     "exception": false,
     "start_time": "2021-01-20T19:28:25.561397",
     "status": "completed"
    },
    "tags": []
   },
   "outputs": [],
   "source": [
    "train = pd.read_csv('/kaggle/input/sf-dst-scoring/train.csv')\n",
    "test= pd.read_csv('/kaggle/input/sf-dst-scoring/test.csv')\n",
    "sample_submission = pd.read_csv('/kaggle/input/sf-dst-scoring/sample_submission.csv')"
   ]
  },
  {
   "cell_type": "markdown",
   "metadata": {
    "papermill": {
     "duration": 0.066321,
     "end_time": "2021-01-20T19:28:26.117969",
     "exception": false,
     "start_time": "2021-01-20T19:28:26.051648",
     "status": "completed"
    },
    "tags": []
   },
   "source": [
    "# **Смотрим информацию о датасетах**"
   ]
  },
  {
   "cell_type": "markdown",
   "metadata": {
    "papermill": {
     "duration": 0.066108,
     "end_time": "2021-01-20T19:28:26.250339",
     "exception": false,
     "start_time": "2021-01-20T19:28:26.184231",
     "status": "completed"
    },
    "tags": []
   },
   "source": [
    "Описания полей датасета\n",
    "\n",
    "* client_id - идентификатор клиента\n",
    "* education - уровень образования\n",
    "* sex - пол заемщика\n",
    "* age - возраст заемщика\n",
    "* car - флаг наличия автомобиля\n",
    "* car_type - флаг автомобиля иномарки\n",
    "* decline_app_cnt - количество отказанных прошлых заявок\n",
    "* good_work - флаг наличия “хорошей” работы\n",
    "* bki_request_cnt - количество запросов в БКИ\n",
    "* home_address - категоризатор домашнего адреса\n",
    "* work_address - категоризатор рабочего адреса\n",
    "* income - доход заемщика\n",
    "* foreign_passport - наличие загранпаспорта\n",
    "* sna - связь заемщика с клиентами банка\n",
    "* first_time - давность наличия информации о заемщике\n",
    "* score_bki - скоринговый балл по данным из БКИ\n",
    "* region_rating - рейтинг региона\n",
    "* app_date - дата подачи заявки\n",
    "* default - флаг дефолта по кредиту"
   ]
  },
  {
   "cell_type": "code",
   "execution_count": 4,
   "metadata": {
    "execution": {
     "iopub.execute_input": "2021-01-20T19:28:26.439005Z",
     "iopub.status.busy": "2021-01-20T19:28:26.391464Z",
     "iopub.status.idle": "2021-01-20T19:28:26.467902Z",
     "shell.execute_reply": "2021-01-20T19:28:26.467166Z"
    },
    "papermill": {
     "duration": 0.145309,
     "end_time": "2021-01-20T19:28:26.468039",
     "exception": false,
     "start_time": "2021-01-20T19:28:26.322730",
     "status": "completed"
    },
    "tags": []
   },
   "outputs": [
    {
     "name": "stdout",
     "output_type": "stream",
     "text": [
      "<class 'pandas.core.frame.DataFrame'>\n",
      "RangeIndex: 73799 entries, 0 to 73798\n",
      "Data columns (total 19 columns):\n",
      " #   Column            Non-Null Count  Dtype  \n",
      "---  ------            --------------  -----  \n",
      " 0   client_id         73799 non-null  int64  \n",
      " 1   app_date          73799 non-null  object \n",
      " 2   education         73492 non-null  object \n",
      " 3   sex               73799 non-null  object \n",
      " 4   age               73799 non-null  int64  \n",
      " 5   car               73799 non-null  object \n",
      " 6   car_type          73799 non-null  object \n",
      " 7   decline_app_cnt   73799 non-null  int64  \n",
      " 8   good_work         73799 non-null  int64  \n",
      " 9   score_bki         73799 non-null  float64\n",
      " 10  bki_request_cnt   73799 non-null  int64  \n",
      " 11  region_rating     73799 non-null  int64  \n",
      " 12  home_address      73799 non-null  int64  \n",
      " 13  work_address      73799 non-null  int64  \n",
      " 14  income            73799 non-null  int64  \n",
      " 15  sna               73799 non-null  int64  \n",
      " 16  first_time        73799 non-null  int64  \n",
      " 17  foreign_passport  73799 non-null  object \n",
      " 18  default           73799 non-null  int64  \n",
      "dtypes: float64(1), int64(12), object(6)\n",
      "memory usage: 10.7+ MB\n"
     ]
    }
   ],
   "source": [
    "train.info()"
   ]
  },
  {
   "cell_type": "code",
   "execution_count": 5,
   "metadata": {
    "execution": {
     "iopub.execute_input": "2021-01-20T19:28:26.604231Z",
     "iopub.status.busy": "2021-01-20T19:28:26.603319Z",
     "iopub.status.idle": "2021-01-20T19:28:26.623877Z",
     "shell.execute_reply": "2021-01-20T19:28:26.623270Z"
    },
    "papermill": {
     "duration": 0.096854,
     "end_time": "2021-01-20T19:28:26.624006",
     "exception": false,
     "start_time": "2021-01-20T19:28:26.527152",
     "status": "completed"
    },
    "tags": []
   },
   "outputs": [
    {
     "data": {
      "text/html": [
       "<div>\n",
       "<style scoped>\n",
       "    .dataframe tbody tr th:only-of-type {\n",
       "        vertical-align: middle;\n",
       "    }\n",
       "\n",
       "    .dataframe tbody tr th {\n",
       "        vertical-align: top;\n",
       "    }\n",
       "\n",
       "    .dataframe thead th {\n",
       "        text-align: right;\n",
       "    }\n",
       "</style>\n",
       "<table border=\"1\" class=\"dataframe\">\n",
       "  <thead>\n",
       "    <tr style=\"text-align: right;\">\n",
       "      <th></th>\n",
       "      <th>client_id</th>\n",
       "      <th>app_date</th>\n",
       "      <th>education</th>\n",
       "      <th>sex</th>\n",
       "      <th>age</th>\n",
       "      <th>car</th>\n",
       "      <th>car_type</th>\n",
       "      <th>decline_app_cnt</th>\n",
       "      <th>good_work</th>\n",
       "      <th>score_bki</th>\n",
       "      <th>bki_request_cnt</th>\n",
       "      <th>region_rating</th>\n",
       "      <th>home_address</th>\n",
       "      <th>work_address</th>\n",
       "      <th>income</th>\n",
       "      <th>sna</th>\n",
       "      <th>first_time</th>\n",
       "      <th>foreign_passport</th>\n",
       "      <th>default</th>\n",
       "    </tr>\n",
       "  </thead>\n",
       "  <tbody>\n",
       "    <tr>\n",
       "      <th>0</th>\n",
       "      <td>25905</td>\n",
       "      <td>01FEB2014</td>\n",
       "      <td>SCH</td>\n",
       "      <td>M</td>\n",
       "      <td>62</td>\n",
       "      <td>Y</td>\n",
       "      <td>Y</td>\n",
       "      <td>0</td>\n",
       "      <td>0</td>\n",
       "      <td>-2.008753</td>\n",
       "      <td>1</td>\n",
       "      <td>50</td>\n",
       "      <td>1</td>\n",
       "      <td>2</td>\n",
       "      <td>18000</td>\n",
       "      <td>4</td>\n",
       "      <td>1</td>\n",
       "      <td>N</td>\n",
       "      <td>0</td>\n",
       "    </tr>\n",
       "    <tr>\n",
       "      <th>1</th>\n",
       "      <td>63161</td>\n",
       "      <td>12MAR2014</td>\n",
       "      <td>SCH</td>\n",
       "      <td>F</td>\n",
       "      <td>59</td>\n",
       "      <td>N</td>\n",
       "      <td>N</td>\n",
       "      <td>0</td>\n",
       "      <td>0</td>\n",
       "      <td>-1.532276</td>\n",
       "      <td>3</td>\n",
       "      <td>50</td>\n",
       "      <td>2</td>\n",
       "      <td>3</td>\n",
       "      <td>19000</td>\n",
       "      <td>4</td>\n",
       "      <td>1</td>\n",
       "      <td>N</td>\n",
       "      <td>0</td>\n",
       "    </tr>\n",
       "    <tr>\n",
       "      <th>2</th>\n",
       "      <td>25887</td>\n",
       "      <td>01FEB2014</td>\n",
       "      <td>SCH</td>\n",
       "      <td>M</td>\n",
       "      <td>25</td>\n",
       "      <td>Y</td>\n",
       "      <td>N</td>\n",
       "      <td>2</td>\n",
       "      <td>0</td>\n",
       "      <td>-1.408142</td>\n",
       "      <td>1</td>\n",
       "      <td>80</td>\n",
       "      <td>1</td>\n",
       "      <td>2</td>\n",
       "      <td>30000</td>\n",
       "      <td>1</td>\n",
       "      <td>4</td>\n",
       "      <td>Y</td>\n",
       "      <td>0</td>\n",
       "    </tr>\n",
       "    <tr>\n",
       "      <th>3</th>\n",
       "      <td>16222</td>\n",
       "      <td>23JAN2014</td>\n",
       "      <td>SCH</td>\n",
       "      <td>F</td>\n",
       "      <td>53</td>\n",
       "      <td>N</td>\n",
       "      <td>N</td>\n",
       "      <td>0</td>\n",
       "      <td>0</td>\n",
       "      <td>-2.057471</td>\n",
       "      <td>2</td>\n",
       "      <td>50</td>\n",
       "      <td>2</td>\n",
       "      <td>3</td>\n",
       "      <td>10000</td>\n",
       "      <td>1</td>\n",
       "      <td>3</td>\n",
       "      <td>N</td>\n",
       "      <td>0</td>\n",
       "    </tr>\n",
       "    <tr>\n",
       "      <th>4</th>\n",
       "      <td>101655</td>\n",
       "      <td>18APR2014</td>\n",
       "      <td>GRD</td>\n",
       "      <td>M</td>\n",
       "      <td>48</td>\n",
       "      <td>N</td>\n",
       "      <td>N</td>\n",
       "      <td>0</td>\n",
       "      <td>1</td>\n",
       "      <td>-1.244723</td>\n",
       "      <td>1</td>\n",
       "      <td>60</td>\n",
       "      <td>2</td>\n",
       "      <td>3</td>\n",
       "      <td>30000</td>\n",
       "      <td>1</td>\n",
       "      <td>4</td>\n",
       "      <td>Y</td>\n",
       "      <td>0</td>\n",
       "    </tr>\n",
       "    <tr>\n",
       "      <th>5</th>\n",
       "      <td>41415</td>\n",
       "      <td>18FEB2014</td>\n",
       "      <td>SCH</td>\n",
       "      <td>M</td>\n",
       "      <td>27</td>\n",
       "      <td>Y</td>\n",
       "      <td>N</td>\n",
       "      <td>0</td>\n",
       "      <td>1</td>\n",
       "      <td>-2.032257</td>\n",
       "      <td>0</td>\n",
       "      <td>50</td>\n",
       "      <td>1</td>\n",
       "      <td>1</td>\n",
       "      <td>15000</td>\n",
       "      <td>2</td>\n",
       "      <td>3</td>\n",
       "      <td>N</td>\n",
       "      <td>0</td>\n",
       "    </tr>\n",
       "    <tr>\n",
       "      <th>6</th>\n",
       "      <td>28436</td>\n",
       "      <td>04FEB2014</td>\n",
       "      <td>SCH</td>\n",
       "      <td>M</td>\n",
       "      <td>39</td>\n",
       "      <td>N</td>\n",
       "      <td>N</td>\n",
       "      <td>0</td>\n",
       "      <td>0</td>\n",
       "      <td>-2.225004</td>\n",
       "      <td>0</td>\n",
       "      <td>60</td>\n",
       "      <td>1</td>\n",
       "      <td>2</td>\n",
       "      <td>28000</td>\n",
       "      <td>1</td>\n",
       "      <td>1</td>\n",
       "      <td>N</td>\n",
       "      <td>0</td>\n",
       "    </tr>\n",
       "    <tr>\n",
       "      <th>7</th>\n",
       "      <td>68769</td>\n",
       "      <td>17MAR2014</td>\n",
       "      <td>SCH</td>\n",
       "      <td>F</td>\n",
       "      <td>39</td>\n",
       "      <td>N</td>\n",
       "      <td>N</td>\n",
       "      <td>0</td>\n",
       "      <td>0</td>\n",
       "      <td>-1.522739</td>\n",
       "      <td>1</td>\n",
       "      <td>50</td>\n",
       "      <td>2</td>\n",
       "      <td>3</td>\n",
       "      <td>45000</td>\n",
       "      <td>3</td>\n",
       "      <td>3</td>\n",
       "      <td>N</td>\n",
       "      <td>0</td>\n",
       "    </tr>\n",
       "    <tr>\n",
       "      <th>8</th>\n",
       "      <td>38424</td>\n",
       "      <td>14FEB2014</td>\n",
       "      <td>SCH</td>\n",
       "      <td>F</td>\n",
       "      <td>50</td>\n",
       "      <td>Y</td>\n",
       "      <td>N</td>\n",
       "      <td>1</td>\n",
       "      <td>0</td>\n",
       "      <td>-1.676061</td>\n",
       "      <td>0</td>\n",
       "      <td>50</td>\n",
       "      <td>1</td>\n",
       "      <td>1</td>\n",
       "      <td>30000</td>\n",
       "      <td>1</td>\n",
       "      <td>4</td>\n",
       "      <td>N</td>\n",
       "      <td>0</td>\n",
       "    </tr>\n",
       "    <tr>\n",
       "      <th>9</th>\n",
       "      <td>4496</td>\n",
       "      <td>10JAN2014</td>\n",
       "      <td>UGR</td>\n",
       "      <td>F</td>\n",
       "      <td>54</td>\n",
       "      <td>N</td>\n",
       "      <td>N</td>\n",
       "      <td>0</td>\n",
       "      <td>0</td>\n",
       "      <td>-2.695176</td>\n",
       "      <td>1</td>\n",
       "      <td>50</td>\n",
       "      <td>2</td>\n",
       "      <td>3</td>\n",
       "      <td>24000</td>\n",
       "      <td>1</td>\n",
       "      <td>3</td>\n",
       "      <td>N</td>\n",
       "      <td>0</td>\n",
       "    </tr>\n",
       "  </tbody>\n",
       "</table>\n",
       "</div>"
      ],
      "text/plain": [
       "   client_id   app_date education sex  age car car_type  decline_app_cnt  \\\n",
       "0      25905  01FEB2014       SCH   M   62   Y        Y                0   \n",
       "1      63161  12MAR2014       SCH   F   59   N        N                0   \n",
       "2      25887  01FEB2014       SCH   M   25   Y        N                2   \n",
       "3      16222  23JAN2014       SCH   F   53   N        N                0   \n",
       "4     101655  18APR2014       GRD   M   48   N        N                0   \n",
       "5      41415  18FEB2014       SCH   M   27   Y        N                0   \n",
       "6      28436  04FEB2014       SCH   M   39   N        N                0   \n",
       "7      68769  17MAR2014       SCH   F   39   N        N                0   \n",
       "8      38424  14FEB2014       SCH   F   50   Y        N                1   \n",
       "9       4496  10JAN2014       UGR   F   54   N        N                0   \n",
       "\n",
       "   good_work  score_bki  bki_request_cnt  region_rating  home_address  \\\n",
       "0          0  -2.008753                1             50             1   \n",
       "1          0  -1.532276                3             50             2   \n",
       "2          0  -1.408142                1             80             1   \n",
       "3          0  -2.057471                2             50             2   \n",
       "4          1  -1.244723                1             60             2   \n",
       "5          1  -2.032257                0             50             1   \n",
       "6          0  -2.225004                0             60             1   \n",
       "7          0  -1.522739                1             50             2   \n",
       "8          0  -1.676061                0             50             1   \n",
       "9          0  -2.695176                1             50             2   \n",
       "\n",
       "   work_address  income  sna  first_time foreign_passport  default  \n",
       "0             2   18000    4           1                N        0  \n",
       "1             3   19000    4           1                N        0  \n",
       "2             2   30000    1           4                Y        0  \n",
       "3             3   10000    1           3                N        0  \n",
       "4             3   30000    1           4                Y        0  \n",
       "5             1   15000    2           3                N        0  \n",
       "6             2   28000    1           1                N        0  \n",
       "7             3   45000    3           3                N        0  \n",
       "8             1   30000    1           4                N        0  \n",
       "9             3   24000    1           3                N        0  "
      ]
     },
     "execution_count": 5,
     "metadata": {},
     "output_type": "execute_result"
    }
   ],
   "source": [
    "train.head(10)"
   ]
  },
  {
   "cell_type": "code",
   "execution_count": 6,
   "metadata": {
    "execution": {
     "iopub.execute_input": "2021-01-20T19:28:26.779412Z",
     "iopub.status.busy": "2021-01-20T19:28:26.748766Z",
     "iopub.status.idle": "2021-01-20T19:28:26.794851Z",
     "shell.execute_reply": "2021-01-20T19:28:26.795434Z"
    },
    "papermill": {
     "duration": 0.111565,
     "end_time": "2021-01-20T19:28:26.795620",
     "exception": false,
     "start_time": "2021-01-20T19:28:26.684055",
     "status": "completed"
    },
    "tags": []
   },
   "outputs": [
    {
     "name": "stdout",
     "output_type": "stream",
     "text": [
      "<class 'pandas.core.frame.DataFrame'>\n",
      "RangeIndex: 36349 entries, 0 to 36348\n",
      "Data columns (total 18 columns):\n",
      " #   Column            Non-Null Count  Dtype  \n",
      "---  ------            --------------  -----  \n",
      " 0   client_id         36349 non-null  int64  \n",
      " 1   app_date          36349 non-null  object \n",
      " 2   education         36178 non-null  object \n",
      " 3   sex               36349 non-null  object \n",
      " 4   age               36349 non-null  int64  \n",
      " 5   car               36349 non-null  object \n",
      " 6   car_type          36349 non-null  object \n",
      " 7   decline_app_cnt   36349 non-null  int64  \n",
      " 8   good_work         36349 non-null  int64  \n",
      " 9   score_bki         36349 non-null  float64\n",
      " 10  bki_request_cnt   36349 non-null  int64  \n",
      " 11  region_rating     36349 non-null  int64  \n",
      " 12  home_address      36349 non-null  int64  \n",
      " 13  work_address      36349 non-null  int64  \n",
      " 14  income            36349 non-null  int64  \n",
      " 15  sna               36349 non-null  int64  \n",
      " 16  first_time        36349 non-null  int64  \n",
      " 17  foreign_passport  36349 non-null  object \n",
      "dtypes: float64(1), int64(11), object(6)\n",
      "memory usage: 5.0+ MB\n"
     ]
    }
   ],
   "source": [
    "test.info()"
   ]
  },
  {
   "cell_type": "code",
   "execution_count": 7,
   "metadata": {
    "execution": {
     "iopub.execute_input": "2021-01-20T19:28:26.938485Z",
     "iopub.status.busy": "2021-01-20T19:28:26.937649Z",
     "iopub.status.idle": "2021-01-20T19:28:26.942084Z",
     "shell.execute_reply": "2021-01-20T19:28:26.941558Z"
    },
    "papermill": {
     "duration": 0.085011,
     "end_time": "2021-01-20T19:28:26.942204",
     "exception": false,
     "start_time": "2021-01-20T19:28:26.857193",
     "status": "completed"
    },
    "tags": []
   },
   "outputs": [
    {
     "data": {
      "text/html": [
       "<div>\n",
       "<style scoped>\n",
       "    .dataframe tbody tr th:only-of-type {\n",
       "        vertical-align: middle;\n",
       "    }\n",
       "\n",
       "    .dataframe tbody tr th {\n",
       "        vertical-align: top;\n",
       "    }\n",
       "\n",
       "    .dataframe thead th {\n",
       "        text-align: right;\n",
       "    }\n",
       "</style>\n",
       "<table border=\"1\" class=\"dataframe\">\n",
       "  <thead>\n",
       "    <tr style=\"text-align: right;\">\n",
       "      <th></th>\n",
       "      <th>client_id</th>\n",
       "      <th>app_date</th>\n",
       "      <th>education</th>\n",
       "      <th>sex</th>\n",
       "      <th>age</th>\n",
       "      <th>car</th>\n",
       "      <th>car_type</th>\n",
       "      <th>decline_app_cnt</th>\n",
       "      <th>good_work</th>\n",
       "      <th>score_bki</th>\n",
       "      <th>bki_request_cnt</th>\n",
       "      <th>region_rating</th>\n",
       "      <th>home_address</th>\n",
       "      <th>work_address</th>\n",
       "      <th>income</th>\n",
       "      <th>sna</th>\n",
       "      <th>first_time</th>\n",
       "      <th>foreign_passport</th>\n",
       "    </tr>\n",
       "  </thead>\n",
       "  <tbody>\n",
       "    <tr>\n",
       "      <th>0</th>\n",
       "      <td>74835</td>\n",
       "      <td>22MAR2014</td>\n",
       "      <td>GRD</td>\n",
       "      <td>M</td>\n",
       "      <td>29</td>\n",
       "      <td>Y</td>\n",
       "      <td>Y</td>\n",
       "      <td>0</td>\n",
       "      <td>0</td>\n",
       "      <td>-2.271884</td>\n",
       "      <td>3</td>\n",
       "      <td>50</td>\n",
       "      <td>1</td>\n",
       "      <td>2</td>\n",
       "      <td>50000</td>\n",
       "      <td>1</td>\n",
       "      <td>4</td>\n",
       "      <td>N</td>\n",
       "    </tr>\n",
       "    <tr>\n",
       "      <th>1</th>\n",
       "      <td>17527</td>\n",
       "      <td>24JAN2014</td>\n",
       "      <td>SCH</td>\n",
       "      <td>F</td>\n",
       "      <td>39</td>\n",
       "      <td>N</td>\n",
       "      <td>N</td>\n",
       "      <td>5</td>\n",
       "      <td>0</td>\n",
       "      <td>-1.504999</td>\n",
       "      <td>2</td>\n",
       "      <td>50</td>\n",
       "      <td>1</td>\n",
       "      <td>2</td>\n",
       "      <td>5000</td>\n",
       "      <td>4</td>\n",
       "      <td>3</td>\n",
       "      <td>N</td>\n",
       "    </tr>\n",
       "    <tr>\n",
       "      <th>2</th>\n",
       "      <td>75683</td>\n",
       "      <td>23MAR2014</td>\n",
       "      <td>UGR</td>\n",
       "      <td>M</td>\n",
       "      <td>50</td>\n",
       "      <td>Y</td>\n",
       "      <td>Y</td>\n",
       "      <td>0</td>\n",
       "      <td>0</td>\n",
       "      <td>-1.691339</td>\n",
       "      <td>1</td>\n",
       "      <td>50</td>\n",
       "      <td>1</td>\n",
       "      <td>2</td>\n",
       "      <td>30000</td>\n",
       "      <td>1</td>\n",
       "      <td>3</td>\n",
       "      <td>Y</td>\n",
       "    </tr>\n",
       "    <tr>\n",
       "      <th>3</th>\n",
       "      <td>26883</td>\n",
       "      <td>03FEB2014</td>\n",
       "      <td>SCH</td>\n",
       "      <td>M</td>\n",
       "      <td>56</td>\n",
       "      <td>N</td>\n",
       "      <td>N</td>\n",
       "      <td>0</td>\n",
       "      <td>0</td>\n",
       "      <td>-2.374182</td>\n",
       "      <td>1</td>\n",
       "      <td>40</td>\n",
       "      <td>1</td>\n",
       "      <td>2</td>\n",
       "      <td>17000</td>\n",
       "      <td>1</td>\n",
       "      <td>3</td>\n",
       "      <td>N</td>\n",
       "    </tr>\n",
       "    <tr>\n",
       "      <th>4</th>\n",
       "      <td>28862</td>\n",
       "      <td>04FEB2014</td>\n",
       "      <td>GRD</td>\n",
       "      <td>F</td>\n",
       "      <td>38</td>\n",
       "      <td>N</td>\n",
       "      <td>N</td>\n",
       "      <td>0</td>\n",
       "      <td>0</td>\n",
       "      <td>-2.487502</td>\n",
       "      <td>0</td>\n",
       "      <td>80</td>\n",
       "      <td>2</td>\n",
       "      <td>3</td>\n",
       "      <td>120000</td>\n",
       "      <td>1</td>\n",
       "      <td>3</td>\n",
       "      <td>N</td>\n",
       "    </tr>\n",
       "  </tbody>\n",
       "</table>\n",
       "</div>"
      ],
      "text/plain": [
       "   client_id   app_date education sex  age car car_type  decline_app_cnt  \\\n",
       "0      74835  22MAR2014       GRD   M   29   Y        Y                0   \n",
       "1      17527  24JAN2014       SCH   F   39   N        N                5   \n",
       "2      75683  23MAR2014       UGR   M   50   Y        Y                0   \n",
       "3      26883  03FEB2014       SCH   M   56   N        N                0   \n",
       "4      28862  04FEB2014       GRD   F   38   N        N                0   \n",
       "\n",
       "   good_work  score_bki  bki_request_cnt  region_rating  home_address  \\\n",
       "0          0  -2.271884                3             50             1   \n",
       "1          0  -1.504999                2             50             1   \n",
       "2          0  -1.691339                1             50             1   \n",
       "3          0  -2.374182                1             40             1   \n",
       "4          0  -2.487502                0             80             2   \n",
       "\n",
       "   work_address  income  sna  first_time foreign_passport  \n",
       "0             2   50000    1           4                N  \n",
       "1             2    5000    4           3                N  \n",
       "2             2   30000    1           3                Y  \n",
       "3             2   17000    1           3                N  \n",
       "4             3  120000    1           3                N  "
      ]
     },
     "execution_count": 7,
     "metadata": {},
     "output_type": "execute_result"
    }
   ],
   "source": [
    "test.head()"
   ]
  },
  {
   "cell_type": "markdown",
   "metadata": {
    "papermill": {
     "duration": 0.061062,
     "end_time": "2021-01-20T19:28:27.064873",
     "exception": false,
     "start_time": "2021-01-20T19:28:27.003811",
     "status": "completed"
    },
    "tags": []
   },
   "source": [
    "### **Посмотрим на пропуски в датасетах**"
   ]
  },
  {
   "cell_type": "code",
   "execution_count": 8,
   "metadata": {
    "execution": {
     "iopub.execute_input": "2021-01-20T19:28:27.237633Z",
     "iopub.status.busy": "2021-01-20T19:28:27.236952Z",
     "iopub.status.idle": "2021-01-20T19:28:27.272798Z",
     "shell.execute_reply": "2021-01-20T19:28:27.273311Z"
    },
    "papermill": {
     "duration": 0.148216,
     "end_time": "2021-01-20T19:28:27.273470",
     "exception": false,
     "start_time": "2021-01-20T19:28:27.125254",
     "status": "completed"
    },
    "tags": []
   },
   "outputs": [
    {
     "data": {
      "text/plain": [
       "(client_id             0\n",
       " app_date              0\n",
       " education           307\n",
       " sex                   0\n",
       " age                   0\n",
       " car                   0\n",
       " car_type              0\n",
       " decline_app_cnt       0\n",
       " good_work             0\n",
       " score_bki             0\n",
       " bki_request_cnt       0\n",
       " region_rating         0\n",
       " home_address          0\n",
       " work_address          0\n",
       " income                0\n",
       " sna                   0\n",
       " first_time            0\n",
       " foreign_passport      0\n",
       " default               0\n",
       " dtype: int64,\n",
       " client_id             0\n",
       " app_date              0\n",
       " education           171\n",
       " sex                   0\n",
       " age                   0\n",
       " car                   0\n",
       " car_type              0\n",
       " decline_app_cnt       0\n",
       " good_work             0\n",
       " score_bki             0\n",
       " bki_request_cnt       0\n",
       " region_rating         0\n",
       " home_address          0\n",
       " work_address          0\n",
       " income                0\n",
       " sna                   0\n",
       " first_time            0\n",
       " foreign_passport      0\n",
       " dtype: int64)"
      ]
     },
     "execution_count": 8,
     "metadata": {},
     "output_type": "execute_result"
    }
   ],
   "source": [
    "train.isnull().sum(), test.isnull().sum()"
   ]
  },
  {
   "cell_type": "markdown",
   "metadata": {
    "papermill": {
     "duration": 0.061424,
     "end_time": "2021-01-20T19:28:27.396191",
     "exception": false,
     "start_time": "2021-01-20T19:28:27.334767",
     "status": "completed"
    },
    "tags": []
   },
   "source": [
    "Пропуски есть только в столбцах education. Посмотрим значение этого призна в обоих датасетах"
   ]
  },
  {
   "cell_type": "code",
   "execution_count": 9,
   "metadata": {
    "execution": {
     "iopub.execute_input": "2021-01-20T19:28:27.523572Z",
     "iopub.status.busy": "2021-01-20T19:28:27.522472Z",
     "iopub.status.idle": "2021-01-20T19:28:27.800900Z",
     "shell.execute_reply": "2021-01-20T19:28:27.801618Z"
    },
    "papermill": {
     "duration": 0.343134,
     "end_time": "2021-01-20T19:28:27.801777",
     "exception": false,
     "start_time": "2021-01-20T19:28:27.458643",
     "status": "completed"
    },
    "tags": []
   },
   "outputs": [
    {
     "data": {
      "text/plain": [
       "<matplotlib.axes._subplots.AxesSubplot at 0x7fcc68754ad0>"
      ]
     },
     "execution_count": 9,
     "metadata": {},
     "output_type": "execute_result"
    },
    {
     "data": {
      "image/png": "[encoded data removed]",
      "text/plain": [
       "<Figure size 864x576 with 1 Axes>"
      ]
     },
     "metadata": {
      "needs_background": "light"
     },
     "output_type": "display_data"
    }
   ],
   "source": [
    "sns.countplot(train['education'])"
   ]
  },
  {
   "cell_type": "code",
   "execution_count": 10,
   "metadata": {
    "execution": {
     "iopub.execute_input": "2021-01-20T19:28:27.941192Z",
     "iopub.status.busy": "2021-01-20T19:28:27.940466Z",
     "iopub.status.idle": "2021-01-20T19:28:28.127546Z",
     "shell.execute_reply": "2021-01-20T19:28:28.126548Z"
    },
    "papermill": {
     "duration": 0.263593,
     "end_time": "2021-01-20T19:28:28.127701",
     "exception": false,
     "start_time": "2021-01-20T19:28:27.864108",
     "status": "completed"
    },
    "tags": []
   },
   "outputs": [
    {
     "data": {
      "text/plain": [
       "<matplotlib.axes._subplots.AxesSubplot at 0x7fcc683a3050>"
      ]
     },
     "execution_count": 10,
     "metadata": {},
     "output_type": "execute_result"
    },
    {
     "data": {
      "image/png": "[encoded data removed]",
      "text/plain": [
       "<Figure size 864x576 with 1 Axes>"
      ]
     },
     "metadata": {
      "needs_background": "light"
     },
     "output_type": "display_data"
    }
   ],
   "source": [
    "sns.countplot(test['education'])"
   ]
  },
  {
   "cell_type": "markdown",
   "metadata": {
    "papermill": {
     "duration": 0.06331,
     "end_time": "2021-01-20T19:28:28.262232",
     "exception": false,
     "start_time": "2021-01-20T19:28:28.198922",
     "status": "completed"
    },
    "tags": []
   },
   "source": [
    "Видим, что в обеих датасетах в столбце education чаще всего встречается значение \"SCH\". Заполним пропуски этим значением"
   ]
  },
  {
   "cell_type": "code",
   "execution_count": 11,
   "metadata": {
    "execution": {
     "iopub.execute_input": "2021-01-20T19:28:28.431015Z",
     "iopub.status.busy": "2021-01-20T19:28:28.413543Z",
     "iopub.status.idle": "2021-01-20T19:28:28.491746Z",
     "shell.execute_reply": "2021-01-20T19:28:28.491104Z"
    },
    "papermill": {
     "duration": 0.165612,
     "end_time": "2021-01-20T19:28:28.491864",
     "exception": false,
     "start_time": "2021-01-20T19:28:28.326252",
     "status": "completed"
    },
    "tags": []
   },
   "outputs": [
    {
     "data": {
      "text/plain": [
       "client_id           0\n",
       "app_date            0\n",
       "education           0\n",
       "sex                 0\n",
       "age                 0\n",
       "car                 0\n",
       "car_type            0\n",
       "decline_app_cnt     0\n",
       "good_work           0\n",
       "score_bki           0\n",
       "bki_request_cnt     0\n",
       "region_rating       0\n",
       "home_address        0\n",
       "work_address        0\n",
       "income              0\n",
       "sna                 0\n",
       "first_time          0\n",
       "foreign_passport    0\n",
       "default             0\n",
       "dtype: int64"
      ]
     },
     "execution_count": 11,
     "metadata": {},
     "output_type": "execute_result"
    }
   ],
   "source": [
    "train['education'].fillna(train.education.value_counts().index[0], inplace=True)\n",
    "train.isnull().sum() #Убедимся, что пропусков не осталось"
   ]
  },
  {
   "cell_type": "code",
   "execution_count": 12,
   "metadata": {
    "execution": {
     "iopub.execute_input": "2021-01-20T19:28:28.665522Z",
     "iopub.status.busy": "2021-01-20T19:28:28.641702Z",
     "iopub.status.idle": "2021-01-20T19:28:28.674248Z",
     "shell.execute_reply": "2021-01-20T19:28:28.673545Z"
    },
    "papermill": {
     "duration": 0.118443,
     "end_time": "2021-01-20T19:28:28.674362",
     "exception": false,
     "start_time": "2021-01-20T19:28:28.555919",
     "status": "completed"
    },
    "tags": []
   },
   "outputs": [
    {
     "data": {
      "text/plain": [
       "client_id           0\n",
       "app_date            0\n",
       "education           0\n",
       "sex                 0\n",
       "age                 0\n",
       "car                 0\n",
       "car_type            0\n",
       "decline_app_cnt     0\n",
       "good_work           0\n",
       "score_bki           0\n",
       "bki_request_cnt     0\n",
       "region_rating       0\n",
       "home_address        0\n",
       "work_address        0\n",
       "income              0\n",
       "sna                 0\n",
       "first_time          0\n",
       "foreign_passport    0\n",
       "dtype: int64"
      ]
     },
     "execution_count": 12,
     "metadata": {},
     "output_type": "execute_result"
    }
   ],
   "source": [
    "test['education'].fillna(test.education.value_counts().index[0], inplace=True)\n",
    "test.isnull().sum() #Убедимся, что пропусков не осталось"
   ]
  },
  {
   "cell_type": "markdown",
   "metadata": {
    "papermill": {
     "duration": 0.064034,
     "end_time": "2021-01-20T19:28:28.803173",
     "exception": false,
     "start_time": "2021-01-20T19:28:28.739139",
     "status": "completed"
    },
    "tags": []
   },
   "source": [
    "# **Работа с признаками и feature engineering**"
   ]
  },
  {
   "cell_type": "code",
   "execution_count": 13,
   "metadata": {
    "execution": {
     "iopub.execute_input": "2021-01-20T19:28:28.940715Z",
     "iopub.status.busy": "2021-01-20T19:28:28.939927Z",
     "iopub.status.idle": "2021-01-20T19:28:28.944886Z",
     "shell.execute_reply": "2021-01-20T19:28:28.944226Z"
    },
    "papermill": {
     "duration": 0.076993,
     "end_time": "2021-01-20T19:28:28.945000",
     "exception": false,
     "start_time": "2021-01-20T19:28:28.868007",
     "status": "completed"
    },
    "tags": []
   },
   "outputs": [
    {
     "data": {
      "text/plain": [
       "(0    01FEB2014\n",
       " 1    12MAR2014\n",
       " 2    01FEB2014\n",
       " 3    23JAN2014\n",
       " 4    18APR2014\n",
       " Name: app_date, dtype: object,\n",
       " 0    22MAR2014\n",
       " 1    24JAN2014\n",
       " 2    23MAR2014\n",
       " 3    03FEB2014\n",
       " 4    04FEB2014\n",
       " Name: app_date, dtype: object)"
      ]
     },
     "execution_count": 13,
     "metadata": {},
     "output_type": "execute_result"
    }
   ],
   "source": [
    "# Взглянем поближе на признак app_date\n",
    "train.app_date.head(5), test.app_date.head(5)"
   ]
  },
  {
   "cell_type": "markdown",
   "metadata": {
    "papermill": {
     "duration": 0.064965,
     "end_time": "2021-01-20T19:28:29.076695",
     "exception": false,
     "start_time": "2021-01-20T19:28:29.011730",
     "status": "completed"
    },
    "tags": []
   },
   "source": [
    "#### **Сконвертируем значение признака в удобный формат datetime**"
   ]
  },
  {
   "cell_type": "code",
   "execution_count": 14,
   "metadata": {
    "execution": {
     "iopub.execute_input": "2021-01-20T19:28:29.219090Z",
     "iopub.status.busy": "2021-01-20T19:28:29.218168Z",
     "iopub.status.idle": "2021-01-20T19:28:29.277575Z",
     "shell.execute_reply": "2021-01-20T19:28:29.278461Z"
    },
    "papermill": {
     "duration": 0.136722,
     "end_time": "2021-01-20T19:28:29.278687",
     "exception": false,
     "start_time": "2021-01-20T19:28:29.141965",
     "status": "completed"
    },
    "tags": []
   },
   "outputs": [
    {
     "name": "stdout",
     "output_type": "stream",
     "text": [
      "0   2014-02-01\n",
      "1   2014-03-12\n",
      "2   2014-02-01\n",
      "3   2014-01-23\n",
      "4   2014-04-18\n",
      "Name: app_date, dtype: datetime64[ns]\n",
      "0   2014-03-22\n",
      "1   2014-01-24\n",
      "2   2014-03-23\n",
      "3   2014-02-03\n",
      "4   2014-02-04\n",
      "Name: app_date, dtype: datetime64[ns]\n"
     ]
    }
   ],
   "source": [
    "train.app_date = pd.to_datetime(train.app_date)\n",
    "test.app_date = pd.to_datetime(test.app_date)\n",
    "print(train.app_date.head(5))\n",
    "print(test.app_date.head(5))"
   ]
  },
  {
   "cell_type": "markdown",
   "metadata": {
    "papermill": {
     "duration": 0.065832,
     "end_time": "2021-01-20T19:28:29.411143",
     "exception": false,
     "start_time": "2021-01-20T19:28:29.345311",
     "status": "completed"
    },
    "tags": []
   },
   "source": [
    "#### **На основе признака app_date создадим новый признак**"
   ]
  },
  {
   "cell_type": "code",
   "execution_count": 15,
   "metadata": {
    "execution": {
     "iopub.execute_input": "2021-01-20T19:28:29.547371Z",
     "iopub.status.busy": "2021-01-20T19:28:29.546606Z",
     "iopub.status.idle": "2021-01-20T19:28:29.560762Z",
     "shell.execute_reply": "2021-01-20T19:28:29.561295Z"
    },
    "papermill": {
     "duration": 0.083716,
     "end_time": "2021-01-20T19:28:29.561463",
     "exception": false,
     "start_time": "2021-01-20T19:28:29.477747",
     "status": "completed"
    },
    "tags": []
   },
   "outputs": [],
   "source": [
    "current_date = pd.to_datetime('20JAN2021')\n",
    "# Количество дней, прошедших со дня подачи заявки\n",
    "train['days_passed'] = (current_date - train.app_date).dt.days\n",
    "test['days_passed'] = (current_date - test.app_date).dt.days"
   ]
  },
  {
   "cell_type": "code",
   "execution_count": 16,
   "metadata": {
    "execution": {
     "iopub.execute_input": "2021-01-20T19:28:29.698788Z",
     "iopub.status.busy": "2021-01-20T19:28:29.697973Z",
     "iopub.status.idle": "2021-01-20T19:28:29.719372Z",
     "shell.execute_reply": "2021-01-20T19:28:29.719913Z"
    },
    "papermill": {
     "duration": 0.092288,
     "end_time": "2021-01-20T19:28:29.720080",
     "exception": false,
     "start_time": "2021-01-20T19:28:29.627792",
     "status": "completed"
    },
    "tags": []
   },
   "outputs": [
    {
     "data": {
      "text/html": [
       "<div>\n",
       "<style scoped>\n",
       "    .dataframe tbody tr th:only-of-type {\n",
       "        vertical-align: middle;\n",
       "    }\n",
       "\n",
       "    .dataframe tbody tr th {\n",
       "        vertical-align: top;\n",
       "    }\n",
       "\n",
       "    .dataframe thead th {\n",
       "        text-align: right;\n",
       "    }\n",
       "</style>\n",
       "<table border=\"1\" class=\"dataframe\">\n",
       "  <thead>\n",
       "    <tr style=\"text-align: right;\">\n",
       "      <th></th>\n",
       "      <th>client_id</th>\n",
       "      <th>app_date</th>\n",
       "      <th>education</th>\n",
       "      <th>sex</th>\n",
       "      <th>age</th>\n",
       "      <th>car</th>\n",
       "      <th>car_type</th>\n",
       "      <th>decline_app_cnt</th>\n",
       "      <th>good_work</th>\n",
       "      <th>score_bki</th>\n",
       "      <th>bki_request_cnt</th>\n",
       "      <th>region_rating</th>\n",
       "      <th>home_address</th>\n",
       "      <th>work_address</th>\n",
       "      <th>income</th>\n",
       "      <th>sna</th>\n",
       "      <th>first_time</th>\n",
       "      <th>foreign_passport</th>\n",
       "      <th>default</th>\n",
       "      <th>days_passed</th>\n",
       "    </tr>\n",
       "  </thead>\n",
       "  <tbody>\n",
       "    <tr>\n",
       "      <th>0</th>\n",
       "      <td>25905</td>\n",
       "      <td>2014-02-01</td>\n",
       "      <td>SCH</td>\n",
       "      <td>M</td>\n",
       "      <td>62</td>\n",
       "      <td>Y</td>\n",
       "      <td>Y</td>\n",
       "      <td>0</td>\n",
       "      <td>0</td>\n",
       "      <td>-2.008753</td>\n",
       "      <td>1</td>\n",
       "      <td>50</td>\n",
       "      <td>1</td>\n",
       "      <td>2</td>\n",
       "      <td>18000</td>\n",
       "      <td>4</td>\n",
       "      <td>1</td>\n",
       "      <td>N</td>\n",
       "      <td>0</td>\n",
       "      <td>2545</td>\n",
       "    </tr>\n",
       "    <tr>\n",
       "      <th>1</th>\n",
       "      <td>63161</td>\n",
       "      <td>2014-03-12</td>\n",
       "      <td>SCH</td>\n",
       "      <td>F</td>\n",
       "      <td>59</td>\n",
       "      <td>N</td>\n",
       "      <td>N</td>\n",
       "      <td>0</td>\n",
       "      <td>0</td>\n",
       "      <td>-1.532276</td>\n",
       "      <td>3</td>\n",
       "      <td>50</td>\n",
       "      <td>2</td>\n",
       "      <td>3</td>\n",
       "      <td>19000</td>\n",
       "      <td>4</td>\n",
       "      <td>1</td>\n",
       "      <td>N</td>\n",
       "      <td>0</td>\n",
       "      <td>2506</td>\n",
       "    </tr>\n",
       "    <tr>\n",
       "      <th>2</th>\n",
       "      <td>25887</td>\n",
       "      <td>2014-02-01</td>\n",
       "      <td>SCH</td>\n",
       "      <td>M</td>\n",
       "      <td>25</td>\n",
       "      <td>Y</td>\n",
       "      <td>N</td>\n",
       "      <td>2</td>\n",
       "      <td>0</td>\n",
       "      <td>-1.408142</td>\n",
       "      <td>1</td>\n",
       "      <td>80</td>\n",
       "      <td>1</td>\n",
       "      <td>2</td>\n",
       "      <td>30000</td>\n",
       "      <td>1</td>\n",
       "      <td>4</td>\n",
       "      <td>Y</td>\n",
       "      <td>0</td>\n",
       "      <td>2545</td>\n",
       "    </tr>\n",
       "    <tr>\n",
       "      <th>3</th>\n",
       "      <td>16222</td>\n",
       "      <td>2014-01-23</td>\n",
       "      <td>SCH</td>\n",
       "      <td>F</td>\n",
       "      <td>53</td>\n",
       "      <td>N</td>\n",
       "      <td>N</td>\n",
       "      <td>0</td>\n",
       "      <td>0</td>\n",
       "      <td>-2.057471</td>\n",
       "      <td>2</td>\n",
       "      <td>50</td>\n",
       "      <td>2</td>\n",
       "      <td>3</td>\n",
       "      <td>10000</td>\n",
       "      <td>1</td>\n",
       "      <td>3</td>\n",
       "      <td>N</td>\n",
       "      <td>0</td>\n",
       "      <td>2554</td>\n",
       "    </tr>\n",
       "    <tr>\n",
       "      <th>4</th>\n",
       "      <td>101655</td>\n",
       "      <td>2014-04-18</td>\n",
       "      <td>GRD</td>\n",
       "      <td>M</td>\n",
       "      <td>48</td>\n",
       "      <td>N</td>\n",
       "      <td>N</td>\n",
       "      <td>0</td>\n",
       "      <td>1</td>\n",
       "      <td>-1.244723</td>\n",
       "      <td>1</td>\n",
       "      <td>60</td>\n",
       "      <td>2</td>\n",
       "      <td>3</td>\n",
       "      <td>30000</td>\n",
       "      <td>1</td>\n",
       "      <td>4</td>\n",
       "      <td>Y</td>\n",
       "      <td>0</td>\n",
       "      <td>2469</td>\n",
       "    </tr>\n",
       "  </tbody>\n",
       "</table>\n",
       "</div>"
      ],
      "text/plain": [
       "   client_id   app_date education sex  age car car_type  decline_app_cnt  \\\n",
       "0      25905 2014-02-01       SCH   M   62   Y        Y                0   \n",
       "1      63161 2014-03-12       SCH   F   59   N        N                0   \n",
       "2      25887 2014-02-01       SCH   M   25   Y        N                2   \n",
       "3      16222 2014-01-23       SCH   F   53   N        N                0   \n",
       "4     101655 2014-04-18       GRD   M   48   N        N                0   \n",
       "\n",
       "   good_work  score_bki  bki_request_cnt  region_rating  home_address  \\\n",
       "0          0  -2.008753                1             50             1   \n",
       "1          0  -1.532276                3             50             2   \n",
       "2          0  -1.408142                1             80             1   \n",
       "3          0  -2.057471                2             50             2   \n",
       "4          1  -1.244723                1             60             2   \n",
       "\n",
       "   work_address  income  sna  first_time foreign_passport  default  \\\n",
       "0             2   18000    4           1                N        0   \n",
       "1             3   19000    4           1                N        0   \n",
       "2             2   30000    1           4                Y        0   \n",
       "3             3   10000    1           3                N        0   \n",
       "4             3   30000    1           4                Y        0   \n",
       "\n",
       "   days_passed  \n",
       "0         2545  \n",
       "1         2506  \n",
       "2         2545  \n",
       "3         2554  \n",
       "4         2469  "
      ]
     },
     "execution_count": 16,
     "metadata": {},
     "output_type": "execute_result"
    }
   ],
   "source": [
    "train.head()"
   ]
  },
  {
   "cell_type": "code",
   "execution_count": 17,
   "metadata": {
    "execution": {
     "iopub.execute_input": "2021-01-20T19:28:29.859070Z",
     "iopub.status.busy": "2021-01-20T19:28:29.858262Z",
     "iopub.status.idle": "2021-01-20T19:28:29.880445Z",
     "shell.execute_reply": "2021-01-20T19:28:29.879864Z"
    },
    "papermill": {
     "duration": 0.093388,
     "end_time": "2021-01-20T19:28:29.880580",
     "exception": false,
     "start_time": "2021-01-20T19:28:29.787192",
     "status": "completed"
    },
    "tags": []
   },
   "outputs": [
    {
     "data": {
      "text/html": [
       "<div>\n",
       "<style scoped>\n",
       "    .dataframe tbody tr th:only-of-type {\n",
       "        vertical-align: middle;\n",
       "    }\n",
       "\n",
       "    .dataframe tbody tr th {\n",
       "        vertical-align: top;\n",
       "    }\n",
       "\n",
       "    .dataframe thead th {\n",
       "        text-align: right;\n",
       "    }\n",
       "</style>\n",
       "<table border=\"1\" class=\"dataframe\">\n",
       "  <thead>\n",
       "    <tr style=\"text-align: right;\">\n",
       "      <th></th>\n",
       "      <th>client_id</th>\n",
       "      <th>app_date</th>\n",
       "      <th>education</th>\n",
       "      <th>sex</th>\n",
       "      <th>age</th>\n",
       "      <th>car</th>\n",
       "      <th>car_type</th>\n",
       "      <th>decline_app_cnt</th>\n",
       "      <th>good_work</th>\n",
       "      <th>score_bki</th>\n",
       "      <th>bki_request_cnt</th>\n",
       "      <th>region_rating</th>\n",
       "      <th>home_address</th>\n",
       "      <th>work_address</th>\n",
       "      <th>income</th>\n",
       "      <th>sna</th>\n",
       "      <th>first_time</th>\n",
       "      <th>foreign_passport</th>\n",
       "      <th>days_passed</th>\n",
       "    </tr>\n",
       "  </thead>\n",
       "  <tbody>\n",
       "    <tr>\n",
       "      <th>0</th>\n",
       "      <td>74835</td>\n",
       "      <td>2014-03-22</td>\n",
       "      <td>GRD</td>\n",
       "      <td>M</td>\n",
       "      <td>29</td>\n",
       "      <td>Y</td>\n",
       "      <td>Y</td>\n",
       "      <td>0</td>\n",
       "      <td>0</td>\n",
       "      <td>-2.271884</td>\n",
       "      <td>3</td>\n",
       "      <td>50</td>\n",
       "      <td>1</td>\n",
       "      <td>2</td>\n",
       "      <td>50000</td>\n",
       "      <td>1</td>\n",
       "      <td>4</td>\n",
       "      <td>N</td>\n",
       "      <td>2496</td>\n",
       "    </tr>\n",
       "    <tr>\n",
       "      <th>1</th>\n",
       "      <td>17527</td>\n",
       "      <td>2014-01-24</td>\n",
       "      <td>SCH</td>\n",
       "      <td>F</td>\n",
       "      <td>39</td>\n",
       "      <td>N</td>\n",
       "      <td>N</td>\n",
       "      <td>5</td>\n",
       "      <td>0</td>\n",
       "      <td>-1.504999</td>\n",
       "      <td>2</td>\n",
       "      <td>50</td>\n",
       "      <td>1</td>\n",
       "      <td>2</td>\n",
       "      <td>5000</td>\n",
       "      <td>4</td>\n",
       "      <td>3</td>\n",
       "      <td>N</td>\n",
       "      <td>2553</td>\n",
       "    </tr>\n",
       "    <tr>\n",
       "      <th>2</th>\n",
       "      <td>75683</td>\n",
       "      <td>2014-03-23</td>\n",
       "      <td>UGR</td>\n",
       "      <td>M</td>\n",
       "      <td>50</td>\n",
       "      <td>Y</td>\n",
       "      <td>Y</td>\n",
       "      <td>0</td>\n",
       "      <td>0</td>\n",
       "      <td>-1.691339</td>\n",
       "      <td>1</td>\n",
       "      <td>50</td>\n",
       "      <td>1</td>\n",
       "      <td>2</td>\n",
       "      <td>30000</td>\n",
       "      <td>1</td>\n",
       "      <td>3</td>\n",
       "      <td>Y</td>\n",
       "      <td>2495</td>\n",
       "    </tr>\n",
       "    <tr>\n",
       "      <th>3</th>\n",
       "      <td>26883</td>\n",
       "      <td>2014-02-03</td>\n",
       "      <td>SCH</td>\n",
       "      <td>M</td>\n",
       "      <td>56</td>\n",
       "      <td>N</td>\n",
       "      <td>N</td>\n",
       "      <td>0</td>\n",
       "      <td>0</td>\n",
       "      <td>-2.374182</td>\n",
       "      <td>1</td>\n",
       "      <td>40</td>\n",
       "      <td>1</td>\n",
       "      <td>2</td>\n",
       "      <td>17000</td>\n",
       "      <td>1</td>\n",
       "      <td>3</td>\n",
       "      <td>N</td>\n",
       "      <td>2543</td>\n",
       "    </tr>\n",
       "    <tr>\n",
       "      <th>4</th>\n",
       "      <td>28862</td>\n",
       "      <td>2014-02-04</td>\n",
       "      <td>GRD</td>\n",
       "      <td>F</td>\n",
       "      <td>38</td>\n",
       "      <td>N</td>\n",
       "      <td>N</td>\n",
       "      <td>0</td>\n",
       "      <td>0</td>\n",
       "      <td>-2.487502</td>\n",
       "      <td>0</td>\n",
       "      <td>80</td>\n",
       "      <td>2</td>\n",
       "      <td>3</td>\n",
       "      <td>120000</td>\n",
       "      <td>1</td>\n",
       "      <td>3</td>\n",
       "      <td>N</td>\n",
       "      <td>2542</td>\n",
       "    </tr>\n",
       "  </tbody>\n",
       "</table>\n",
       "</div>"
      ],
      "text/plain": [
       "   client_id   app_date education sex  age car car_type  decline_app_cnt  \\\n",
       "0      74835 2014-03-22       GRD   M   29   Y        Y                0   \n",
       "1      17527 2014-01-24       SCH   F   39   N        N                5   \n",
       "2      75683 2014-03-23       UGR   M   50   Y        Y                0   \n",
       "3      26883 2014-02-03       SCH   M   56   N        N                0   \n",
       "4      28862 2014-02-04       GRD   F   38   N        N                0   \n",
       "\n",
       "   good_work  score_bki  bki_request_cnt  region_rating  home_address  \\\n",
       "0          0  -2.271884                3             50             1   \n",
       "1          0  -1.504999                2             50             1   \n",
       "2          0  -1.691339                1             50             1   \n",
       "3          0  -2.374182                1             40             1   \n",
       "4          0  -2.487502                0             80             2   \n",
       "\n",
       "   work_address  income  sna  first_time foreign_passport  days_passed  \n",
       "0             2   50000    1           4                N         2496  \n",
       "1             2    5000    4           3                N         2553  \n",
       "2             2   30000    1           3                Y         2495  \n",
       "3             2   17000    1           3                N         2543  \n",
       "4             3  120000    1           3                N         2542  "
      ]
     },
     "execution_count": 17,
     "metadata": {},
     "output_type": "execute_result"
    }
   ],
   "source": [
    "test.head()"
   ]
  },
  {
   "cell_type": "markdown",
   "metadata": {
    "papermill": {
     "duration": 0.068684,
     "end_time": "2021-01-20T19:28:30.016910",
     "exception": false,
     "start_time": "2021-01-20T19:28:29.948226",
     "status": "completed"
    },
    "tags": []
   },
   "source": [
    "#### **Разделим колонки по типам данным для большего удобства работы и изучения**"
   ]
  },
  {
   "cell_type": "code",
   "execution_count": 18,
   "metadata": {
    "execution": {
     "iopub.execute_input": "2021-01-20T19:28:30.159862Z",
     "iopub.status.busy": "2021-01-20T19:28:30.159152Z",
     "iopub.status.idle": "2021-01-20T19:28:30.161648Z",
     "shell.execute_reply": "2021-01-20T19:28:30.162199Z"
    },
    "papermill": {
     "duration": 0.076528,
     "end_time": "2021-01-20T19:28:30.162346",
     "exception": false,
     "start_time": "2021-01-20T19:28:30.085818",
     "status": "completed"
    },
    "tags": []
   },
   "outputs": [],
   "source": [
    "# Бинарные признаки\n",
    "bin_cols = ['sex', 'car', 'car_type', 'good_work', 'foreign_passport']\n",
    "\n",
    "# Категориальные признаки\n",
    "cat_cols = ['education', 'home_address', 'work_address', 'sna', 'first_time']\n",
    "\n",
    "# Числовые признаки\n",
    "num_cols = ['days_passed', 'age', 'decline_app_cnt', 'score_bki', 'bki_request_cnt', 'income', 'region_rating']"
   ]
  },
  {
   "cell_type": "markdown",
   "metadata": {
    "papermill": {
     "duration": 0.067129,
     "end_time": "2021-01-20T19:28:30.297479",
     "exception": false,
     "start_time": "2021-01-20T19:28:30.230350",
     "status": "completed"
    },
    "tags": []
   },
   "source": [
    "# **Визуализация и преобразование данных**"
   ]
  },
  {
   "cell_type": "markdown",
   "metadata": {
    "papermill": {
     "duration": 0.07037,
     "end_time": "2021-01-20T19:28:30.435344",
     "exception": false,
     "start_time": "2021-01-20T19:28:30.364974",
     "status": "completed"
    },
    "tags": []
   },
   "source": [
    "### **Посмотрим на распределение целевой переменной**"
   ]
  },
  {
   "cell_type": "code",
   "execution_count": 19,
   "metadata": {
    "execution": {
     "iopub.execute_input": "2021-01-20T19:28:30.579776Z",
     "iopub.status.busy": "2021-01-20T19:28:30.578967Z",
     "iopub.status.idle": "2021-01-20T19:28:30.730725Z",
     "shell.execute_reply": "2021-01-20T19:28:30.731236Z"
    },
    "papermill": {
     "duration": 0.225588,
     "end_time": "2021-01-20T19:28:30.731389",
     "exception": false,
     "start_time": "2021-01-20T19:28:30.505801",
     "status": "completed"
    },
    "tags": []
   },
   "outputs": [
    {
     "data": {
      "text/plain": [
       "<matplotlib.axes._subplots.AxesSubplot at 0x7fcc6851f710>"
      ]
     },
     "execution_count": 19,
     "metadata": {},
     "output_type": "execute_result"
    },
    {
     "data": {
      "image/png": "[encoded data removed]",
      "text/plain": [
       "<Figure size 864x576 with 1 Axes>"
      ]
     },
     "metadata": {
      "needs_background": "light"
     },
     "output_type": "display_data"
    }
   ],
   "source": [
    "sns.countplot(train['default'])"
   ]
  },
  {
   "cell_type": "code",
   "execution_count": 20,
   "metadata": {
    "execution": {
     "iopub.execute_input": "2021-01-20T19:28:30.876218Z",
     "iopub.status.busy": "2021-01-20T19:28:30.875441Z",
     "iopub.status.idle": "2021-01-20T19:28:30.883929Z",
     "shell.execute_reply": "2021-01-20T19:28:30.884516Z"
    },
    "papermill": {
     "duration": 0.083278,
     "end_time": "2021-01-20T19:28:30.884689",
     "exception": false,
     "start_time": "2021-01-20T19:28:30.801411",
     "status": "completed"
    },
    "tags": []
   },
   "outputs": [
    {
     "data": {
      "text/plain": [
       "0    64427\n",
       "1     9372\n",
       "Name: default, dtype: int64"
      ]
     },
     "execution_count": 20,
     "metadata": {},
     "output_type": "execute_result"
    }
   ],
   "source": [
    "train['default'].value_counts()"
   ]
  },
  {
   "cell_type": "markdown",
   "metadata": {
    "papermill": {
     "duration": 0.071593,
     "end_time": "2021-01-20T19:28:31.027053",
     "exception": false,
     "start_time": "2021-01-20T19:28:30.955460",
     "status": "completed"
    },
    "tags": []
   },
   "source": [
    "**Видим, что распределение не равномерное и дефолтных заемщиков сильно меньше. А значит, у нас неравномерное распределение классов. Для устранения дисбаланса применим oversamping.**"
   ]
  },
  {
   "cell_type": "code",
   "execution_count": 21,
   "metadata": {
    "execution": {
     "iopub.execute_input": "2021-01-20T19:28:31.171185Z",
     "iopub.status.busy": "2021-01-20T19:28:31.170400Z",
     "iopub.status.idle": "2021-01-20T19:28:31.598611Z",
     "shell.execute_reply": "2021-01-20T19:28:31.599132Z"
    },
    "papermill": {
     "duration": 0.501932,
     "end_time": "2021-01-20T19:28:31.599296",
     "exception": false,
     "start_time": "2021-01-20T19:28:31.097364",
     "status": "completed"
    },
    "tags": []
   },
   "outputs": [
    {
     "data": {
      "text/plain": [
       "1    65604\n",
       "0    64427\n",
       "Name: default, dtype: int64"
      ]
     },
     "execution_count": 21,
     "metadata": {},
     "output_type": "execute_result"
    }
   ],
   "source": [
    "train_0 = train[train['default'] == 0]\n",
    "train_1 = train[train['default'] == 1]\n",
    "koeff = int(len(train_0)/len(train_1)) # вычислим, во сколько раз недефолтных заемщиков больше, чем дефолтных\n",
    "\n",
    "# Добавим в обучающую выборку скопированные записи дефолтных заемщиков столько раз, чтобы количество дефолтных и недефолтных\n",
    "# заемщиков в выборке стало примерно одинаковым\n",
    "for i in range(koeff):\n",
    "    train = train.append(train_1).reset_index(drop=True)\n",
    "\n",
    "train['default'].value_counts()"
   ]
  },
  {
   "cell_type": "markdown",
   "metadata": {
    "papermill": {
     "duration": 0.069549,
     "end_time": "2021-01-20T19:28:31.738747",
     "exception": false,
     "start_time": "2021-01-20T19:28:31.669198",
     "status": "completed"
    },
    "tags": []
   },
   "source": [
    "### **Посмотрим на распределния числовых признаков**"
   ]
  },
  {
   "cell_type": "code",
   "execution_count": 22,
   "metadata": {
    "execution": {
     "iopub.execute_input": "2021-01-20T19:28:31.885778Z",
     "iopub.status.busy": "2021-01-20T19:28:31.884978Z",
     "iopub.status.idle": "2021-01-20T19:28:31.889759Z",
     "shell.execute_reply": "2021-01-20T19:28:31.888944Z"
    },
    "papermill": {
     "duration": 0.080242,
     "end_time": "2021-01-20T19:28:31.889923",
     "exception": false,
     "start_time": "2021-01-20T19:28:31.809681",
     "status": "completed"
    },
    "tags": []
   },
   "outputs": [
    {
     "name": "stdout",
     "output_type": "stream",
     "text": [
      "['days_passed', 'age', 'decline_app_cnt', 'score_bki', 'bki_request_cnt', 'income', 'region_rating']\n"
     ]
    }
   ],
   "source": [
    "print(num_cols)"
   ]
  },
  {
   "cell_type": "code",
   "execution_count": 23,
   "metadata": {
    "execution": {
     "iopub.execute_input": "2021-01-20T19:28:32.036916Z",
     "iopub.status.busy": "2021-01-20T19:28:32.036114Z",
     "iopub.status.idle": "2021-01-20T19:28:34.252010Z",
     "shell.execute_reply": "2021-01-20T19:28:34.251340Z"
    },
    "papermill": {
     "duration": 2.289692,
     "end_time": "2021-01-20T19:28:34.252132",
     "exception": false,
     "start_time": "2021-01-20T19:28:31.962440",
     "status": "completed"
    },
    "tags": []
   },
   "outputs": [
    {
     "data": {
      "image/png": "[encoded data removed]",
      "text/plain": [
       "<Figure size 1800x864 with 8 Axes>"
      ]
     },
     "metadata": {
      "needs_background": "light"
     },
     "output_type": "display_data"
    }
   ],
   "source": [
    "fig, axes = plt.subplots(2, 4, figsize=(25, 12))\n",
    "for col, i in zip(num_cols, range(8)):\n",
    "    sns.distplot(train[col], kde=False, ax=axes.flat[i])"
   ]
  },
  {
   "cell_type": "markdown",
   "metadata": {
    "papermill": {
     "duration": 0.071535,
     "end_time": "2021-01-20T19:28:34.395990",
     "exception": false,
     "start_time": "2021-01-20T19:28:34.324455",
     "status": "completed"
    },
    "tags": []
   },
   "source": [
    "**Видим, что распределение некоторых признаков смещено. Попробуем скорректировать значения этих признаков**"
   ]
  },
  {
   "cell_type": "code",
   "execution_count": 24,
   "metadata": {
    "execution": {
     "iopub.execute_input": "2021-01-20T19:28:34.570763Z",
     "iopub.status.busy": "2021-01-20T19:28:34.561828Z",
     "iopub.status.idle": "2021-01-20T19:28:35.405423Z",
     "shell.execute_reply": "2021-01-20T19:28:35.404837Z"
    },
    "papermill": {
     "duration": 0.936885,
     "end_time": "2021-01-20T19:28:35.405554",
     "exception": false,
     "start_time": "2021-01-20T19:28:34.468669",
     "status": "completed"
    },
    "tags": []
   },
   "outputs": [
    {
     "data": {
      "text/plain": [
       "<matplotlib.axes._subplots.AxesSubplot at 0x7fcc65924e50>"
      ]
     },
     "execution_count": 24,
     "metadata": {},
     "output_type": "execute_result"
    },
    {
     "data": {
      "image/png": "[encoded data removed]",
      "text/plain": [
       "<Figure size 864x576 with 1 Axes>"
      ]
     },
     "metadata": {
      "needs_background": "light"
     },
     "output_type": "display_data"
    }
   ],
   "source": [
    "# Прологорифмируем значение признака income\n",
    "\n",
    "train['income'] = train['income'].apply(lambda x: np.log(x) + 1)\n",
    "sns.distplot(train['income'], kde=False, rug=False)"
   ]
  },
  {
   "cell_type": "code",
   "execution_count": 25,
   "metadata": {
    "execution": {
     "iopub.execute_input": "2021-01-20T19:28:35.568665Z",
     "iopub.status.busy": "2021-01-20T19:28:35.567602Z",
     "iopub.status.idle": "2021-01-20T19:28:36.254129Z",
     "shell.execute_reply": "2021-01-20T19:28:36.253074Z"
    },
    "papermill": {
     "duration": 0.764204,
     "end_time": "2021-01-20T19:28:36.254252",
     "exception": false,
     "start_time": "2021-01-20T19:28:35.490048",
     "status": "completed"
    },
    "tags": []
   },
   "outputs": [
    {
     "data": {
      "text/plain": [
       "<matplotlib.axes._subplots.AxesSubplot at 0x7fcc658b3c50>"
      ]
     },
     "execution_count": 25,
     "metadata": {},
     "output_type": "execute_result"
    },
    {
     "data": {
      "image/png": "[encoded data removed]",
      "text/plain": [
       "<Figure size 864x576 with 1 Axes>"
      ]
     },
     "metadata": {
      "needs_background": "light"
     },
     "output_type": "display_data"
    }
   ],
   "source": [
    "# Возьмем квадратный корень из значения признака age\n",
    "\n",
    "train['age'] = train['age'].apply(lambda x: np.sqrt(x))\n",
    "sns.distplot(train['age'], kde=False, rug=False)"
   ]
  },
  {
   "cell_type": "code",
   "execution_count": 26,
   "metadata": {
    "execution": {
     "iopub.execute_input": "2021-01-20T19:28:36.412194Z",
     "iopub.status.busy": "2021-01-20T19:28:36.411427Z",
     "iopub.status.idle": "2021-01-20T19:28:37.074444Z",
     "shell.execute_reply": "2021-01-20T19:28:37.075035Z"
    },
    "papermill": {
     "duration": 0.746153,
     "end_time": "2021-01-20T19:28:37.075203",
     "exception": false,
     "start_time": "2021-01-20T19:28:36.329050",
     "status": "completed"
    },
    "tags": []
   },
   "outputs": [
    {
     "data": {
      "text/plain": [
       "<matplotlib.axes._subplots.AxesSubplot at 0x7fcc65987650>"
      ]
     },
     "execution_count": 26,
     "metadata": {},
     "output_type": "execute_result"
    },
    {
     "data": {
      "image/png": "[encoded data removed]",
      "text/plain": [
       "<Figure size 864x576 with 1 Axes>"
      ]
     },
     "metadata": {
      "needs_background": "light"
     },
     "output_type": "display_data"
    }
   ],
   "source": [
    "# Возьмем квадратный корень из значения признака decline_app_cnt\n",
    "\n",
    "train['decline_app_cnt'] = train['decline_app_cnt'].apply(lambda x: np.sqrt(x))\n",
    "sns.distplot(train['decline_app_cnt'], kde=False, rug=False)"
   ]
  },
  {
   "cell_type": "code",
   "execution_count": 27,
   "metadata": {
    "execution": {
     "iopub.execute_input": "2021-01-20T19:28:37.232929Z",
     "iopub.status.busy": "2021-01-20T19:28:37.232198Z",
     "iopub.status.idle": "2021-01-20T19:28:37.949241Z",
     "shell.execute_reply": "2021-01-20T19:28:37.948644Z"
    },
    "papermill": {
     "duration": 0.797004,
     "end_time": "2021-01-20T19:28:37.949366",
     "exception": false,
     "start_time": "2021-01-20T19:28:37.152362",
     "status": "completed"
    },
    "tags": []
   },
   "outputs": [
    {
     "data": {
      "text/plain": [
       "<matplotlib.axes._subplots.AxesSubplot at 0x7fcc657619d0>"
      ]
     },
     "execution_count": 27,
     "metadata": {},
     "output_type": "execute_result"
    },
    {
     "data": {
      "image/png": "[encoded data removed]",
      "text/plain": [
       "<Figure size 864x576 with 1 Axes>"
      ]
     },
     "metadata": {
      "needs_background": "light"
     },
     "output_type": "display_data"
    }
   ],
   "source": [
    "# Возьмем квадратный корень из значения признака decline_app_cnt\n",
    "\n",
    "train['bki_request_cnt'] = train['bki_request_cnt'].apply(lambda x: np.sqrt(x))\n",
    "sns.distplot(train['bki_request_cnt'], kde=False, rug=False)"
   ]
  },
  {
   "cell_type": "code",
   "execution_count": 28,
   "metadata": {
    "execution": {
     "iopub.execute_input": "2021-01-20T19:28:38.120793Z",
     "iopub.status.busy": "2021-01-20T19:28:38.119639Z",
     "iopub.status.idle": "2021-01-20T19:28:39.079113Z",
     "shell.execute_reply": "2021-01-20T19:28:39.080184Z"
    },
    "papermill": {
     "duration": 1.05244,
     "end_time": "2021-01-20T19:28:39.080461",
     "exception": false,
     "start_time": "2021-01-20T19:28:38.028021",
     "status": "completed"
    },
    "tags": []
   },
   "outputs": [
    {
     "data": {
      "text/plain": [
       "<matplotlib.axes._subplots.AxesSubplot at 0x7fcc655ad850>"
      ]
     },
     "execution_count": 28,
     "metadata": {},
     "output_type": "execute_result"
    },
    {
     "data": {
      "image/png": "[encoded data removed]",
      "text/plain": [
       "<Figure size 864x576 with 1 Axes>"
      ]
     },
     "metadata": {
      "needs_background": "light"
     },
     "output_type": "display_data"
    }
   ],
   "source": [
    "# Прологорифмируем значение признака days_passed\n",
    "\n",
    "train['days_passed'] = train['days_passed'].apply(lambda x: np.log(x) + 1)\n",
    "sns.distplot(train['days_passed'], kde=False, rug=False)"
   ]
  },
  {
   "cell_type": "code",
   "execution_count": 29,
   "metadata": {
    "execution": {
     "iopub.execute_input": "2021-01-20T19:28:39.260983Z",
     "iopub.status.busy": "2021-01-20T19:28:39.259772Z",
     "iopub.status.idle": "2021-01-20T19:28:41.543792Z",
     "shell.execute_reply": "2021-01-20T19:28:41.543141Z"
    },
    "papermill": {
     "duration": 2.379172,
     "end_time": "2021-01-20T19:28:41.543925",
     "exception": false,
     "start_time": "2021-01-20T19:28:39.164753",
     "status": "completed"
    },
    "tags": []
   },
   "outputs": [
    {
     "data": {
      "image/png": "[encoded data removed]",
      "text/plain": [
       "<Figure size 1800x864 with 8 Axes>"
      ]
     },
     "metadata": {
      "needs_background": "light"
     },
     "output_type": "display_data"
    }
   ],
   "source": [
    "# Посмотрим на получившиеся распределения тренировочного датасета\n",
    "\n",
    "fig, axes = plt.subplots(2, 4, figsize=(25, 12))\n",
    "for col, i in zip(num_cols, range(8)):\n",
    "    sns.distplot(train[col], kde=False, ax=axes.flat[i])"
   ]
  },
  {
   "cell_type": "code",
   "execution_count": 30,
   "metadata": {
    "execution": {
     "iopub.execute_input": "2021-01-20T19:28:41.749467Z",
     "iopub.status.busy": "2021-01-20T19:28:41.748788Z",
     "iopub.status.idle": "2021-01-20T19:28:44.733283Z",
     "shell.execute_reply": "2021-01-20T19:28:44.733881Z"
    },
    "papermill": {
     "duration": 3.099859,
     "end_time": "2021-01-20T19:28:44.734055",
     "exception": false,
     "start_time": "2021-01-20T19:28:41.634196",
     "status": "completed"
    },
    "tags": []
   },
   "outputs": [
    {
     "data": {
      "image/png": "[encoded data removed]",
      "text/plain": [
       "<Figure size 1800x864 with 8 Axes>"
      ]
     },
     "metadata": {
      "needs_background": "light"
     },
     "output_type": "display_data"
    }
   ],
   "source": [
    "# Проделаем аналогичные операции для тестовой выборки\n",
    "\n",
    "test['days_passed'] = test['days_passed'].apply(lambda x: np.log(x) + 1)\n",
    "test['income'] = test['income'].apply(lambda x: np.log(x) + 1)\n",
    "test['age'] = test['age'].apply(lambda x: np.sqrt(x))\n",
    "test['decline_app_cnt'] = test['decline_app_cnt'].apply(lambda x: np.sqrt(x))\n",
    "test['bki_request_cnt'] = test['bki_request_cnt'].apply(lambda x: np.sqrt(x))\n",
    "\n",
    "fig, axes = plt.subplots(2, 4, figsize=(25, 12))\n",
    "for col, i in zip(num_cols, range(8)):\n",
    "    sns.distplot(test[col], kde=False, ax=axes.flat[i])"
   ]
  },
  {
   "cell_type": "markdown",
   "metadata": {
    "papermill": {
     "duration": 0.083265,
     "end_time": "2021-01-20T19:28:44.903686",
     "exception": false,
     "start_time": "2021-01-20T19:28:44.820421",
     "status": "completed"
    },
    "tags": []
   },
   "source": [
    "### **Посмотрим на матрицу корреляций числовых признаков**"
   ]
  },
  {
   "cell_type": "code",
   "execution_count": 31,
   "metadata": {
    "execution": {
     "iopub.execute_input": "2021-01-20T19:28:45.080571Z",
     "iopub.status.busy": "2021-01-20T19:28:45.079853Z",
     "iopub.status.idle": "2021-01-20T19:28:45.618939Z",
     "shell.execute_reply": "2021-01-20T19:28:45.619527Z"
    },
    "papermill": {
     "duration": 0.62601,
     "end_time": "2021-01-20T19:28:45.619693",
     "exception": false,
     "start_time": "2021-01-20T19:28:44.993683",
     "status": "completed"
    },
    "tags": []
   },
   "outputs": [
    {
     "data": {
      "text/plain": [
       "<matplotlib.axes._subplots.AxesSubplot at 0x7fcc65167f50>"
      ]
     },
     "execution_count": 31,
     "metadata": {},
     "output_type": "execute_result"
    },
    {
     "data": {
      "image/png": "[encoded data removed]",
      "text/plain": [
       "<Figure size 1152x720 with 2 Axes>"
      ]
     },
     "metadata": {
      "needs_background": "light"
     },
     "output_type": "display_data"
    }
   ],
   "source": [
    "plt.figure(figsize=(16,10))\n",
    "sns.heatmap(train[num_cols].corr().abs(), vmin=0, vmax=1, annot=True)"
   ]
  },
  {
   "cell_type": "markdown",
   "metadata": {
    "papermill": {
     "duration": 0.120172,
     "end_time": "2021-01-20T19:28:45.840391",
     "exception": false,
     "start_time": "2021-01-20T19:28:45.720219",
     "status": "completed"
    },
    "tags": []
   },
   "source": [
    "**Корреляции между признаками достаточно мала**"
   ]
  },
  {
   "cell_type": "code",
   "execution_count": 32,
   "metadata": {
    "execution": {
     "iopub.execute_input": "2021-01-20T19:28:46.020397Z",
     "iopub.status.busy": "2021-01-20T19:28:46.019718Z",
     "iopub.status.idle": "2021-01-20T19:28:46.023390Z",
     "shell.execute_reply": "2021-01-20T19:28:46.022679Z"
    },
    "papermill": {
     "duration": 0.092624,
     "end_time": "2021-01-20T19:28:46.023529",
     "exception": false,
     "start_time": "2021-01-20T19:28:45.930905",
     "status": "completed"
    },
    "tags": []
   },
   "outputs": [],
   "source": [
    "#train['income_region_rating'] = train['region_rating'] ** (1/(train['income'] / train['age']))\n",
    "#sns.distplot(train['income_region_rating'], kde=False, rug=False)"
   ]
  },
  {
   "cell_type": "code",
   "execution_count": 33,
   "metadata": {
    "execution": {
     "iopub.execute_input": "2021-01-20T19:28:46.200422Z",
     "iopub.status.busy": "2021-01-20T19:28:46.199228Z",
     "iopub.status.idle": "2021-01-20T19:28:46.202337Z",
     "shell.execute_reply": "2021-01-20T19:28:46.202855Z"
    },
    "papermill": {
     "duration": 0.092937,
     "end_time": "2021-01-20T19:28:46.203017",
     "exception": false,
     "start_time": "2021-01-20T19:28:46.110080",
     "status": "completed"
    },
    "tags": []
   },
   "outputs": [],
   "source": [
    "# Числовые признаки\n",
    "#new_num_cols = ['days_passed', 'age', 'decline_app_cnt', 'score_bki', 'bki_request_cnt'\n",
    "#            , 'income', 'region_rating', 'income_region_rating'\n",
    "#           ]\n",
    "\n",
    "#plt.figure(figsize=(16,10))\n",
    "#sns.heatmap(train[new_num_cols].corr().abs(), vmin=0, vmax=1, annot=True)"
   ]
  },
  {
   "cell_type": "markdown",
   "metadata": {
    "papermill": {
     "duration": 0.084632,
     "end_time": "2021-01-20T19:28:46.373336",
     "exception": false,
     "start_time": "2021-01-20T19:28:46.288704",
     "status": "completed"
    },
    "tags": []
   },
   "source": [
    "### **Посмотрим на выбросы в числовых признаках**"
   ]
  },
  {
   "cell_type": "code",
   "execution_count": 34,
   "metadata": {
    "execution": {
     "iopub.execute_input": "2021-01-20T19:28:46.550697Z",
     "iopub.status.busy": "2021-01-20T19:28:46.550025Z",
     "iopub.status.idle": "2021-01-20T19:28:46.732604Z",
     "shell.execute_reply": "2021-01-20T19:28:46.731977Z"
    },
    "papermill": {
     "duration": 0.27344,
     "end_time": "2021-01-20T19:28:46.732725",
     "exception": false,
     "start_time": "2021-01-20T19:28:46.459285",
     "status": "completed"
    },
    "tags": []
   },
   "outputs": [
    {
     "data": {
      "text/plain": [
       "<matplotlib.axes._subplots.AxesSubplot at 0x7fcc65d09450>"
      ]
     },
     "execution_count": 34,
     "metadata": {},
     "output_type": "execute_result"
    },
    {
     "data": {
      "image/png": "[encoded data removed]",
      "text/plain": [
       "<Figure size 864x576 with 1 Axes>"
      ]
     },
     "metadata": {
      "needs_background": "light"
     },
     "output_type": "display_data"
    }
   ],
   "source": [
    "sns.boxplot(x=train.default, y=train.days_passed)"
   ]
  },
  {
   "cell_type": "markdown",
   "metadata": {
    "papermill": {
     "duration": 0.086329,
     "end_time": "2021-01-20T19:28:46.906657",
     "exception": false,
     "start_time": "2021-01-20T19:28:46.820328",
     "status": "completed"
    },
    "tags": []
   },
   "source": [
    "**У признака days_passed выбросов нет. Дефолтные клиенты, в среднем, оформляли заявки раньше, чем недефолтные**"
   ]
  },
  {
   "cell_type": "code",
   "execution_count": 35,
   "metadata": {
    "execution": {
     "iopub.execute_input": "2021-01-20T19:28:47.086384Z",
     "iopub.status.busy": "2021-01-20T19:28:47.085289Z",
     "iopub.status.idle": "2021-01-20T19:28:47.269949Z",
     "shell.execute_reply": "2021-01-20T19:28:47.269347Z"
    },
    "papermill": {
     "duration": 0.276816,
     "end_time": "2021-01-20T19:28:47.270068",
     "exception": false,
     "start_time": "2021-01-20T19:28:46.993252",
     "status": "completed"
    },
    "tags": []
   },
   "outputs": [
    {
     "data": {
      "text/plain": [
       "<matplotlib.axes._subplots.AxesSubplot at 0x7fcc65c67910>"
      ]
     },
     "execution_count": 35,
     "metadata": {},
     "output_type": "execute_result"
    },
    {
     "data": {
      "image/png": "[encoded data removed]",
      "text/plain": [
       "<Figure size 864x576 with 1 Axes>"
      ]
     },
     "metadata": {
      "needs_background": "light"
     },
     "output_type": "display_data"
    }
   ],
   "source": [
    "sns.boxplot(x=train.default, y=train.age)"
   ]
  },
  {
   "cell_type": "markdown",
   "metadata": {
    "papermill": {
     "duration": 0.086452,
     "end_time": "2021-01-20T19:28:47.442868",
     "exception": false,
     "start_time": "2021-01-20T19:28:47.356416",
     "status": "completed"
    },
    "tags": []
   },
   "source": [
    "**У признака age выбросов нет. Недефолтные клиенты, в среднем, старше дефолтных**"
   ]
  },
  {
   "cell_type": "code",
   "execution_count": 36,
   "metadata": {
    "execution": {
     "iopub.execute_input": "2021-01-20T19:28:47.624071Z",
     "iopub.status.busy": "2021-01-20T19:28:47.623004Z",
     "iopub.status.idle": "2021-01-20T19:28:47.828214Z",
     "shell.execute_reply": "2021-01-20T19:28:47.827538Z"
    },
    "papermill": {
     "duration": 0.297748,
     "end_time": "2021-01-20T19:28:47.828342",
     "exception": false,
     "start_time": "2021-01-20T19:28:47.530594",
     "status": "completed"
    },
    "tags": []
   },
   "outputs": [
    {
     "data": {
      "text/plain": [
       "<matplotlib.axes._subplots.AxesSubplot at 0x7fcc65bc0350>"
      ]
     },
     "execution_count": 36,
     "metadata": {},
     "output_type": "execute_result"
    },
    {
     "data": {
      "image/png": "[encoded data removed]",
      "text/plain": [
       "<Figure size 864x576 with 1 Axes>"
      ]
     },
     "metadata": {
      "needs_background": "light"
     },
     "output_type": "display_data"
    }
   ],
   "source": [
    "sns.boxplot(x=train.default, y=train.decline_app_cnt)"
   ]
  },
  {
   "cell_type": "markdown",
   "metadata": {
    "papermill": {
     "duration": 0.088314,
     "end_time": "2021-01-20T19:28:48.005617",
     "exception": false,
     "start_time": "2021-01-20T19:28:47.917303",
     "status": "completed"
    },
    "tags": []
   },
   "source": [
    "**У дефолтных клиентов количество отклоненных заявок выше, чем у недефолтных. Есть выбросы, но удалять их не стоит, так как медиана значений признака decline_app_cnt находится около 0, и при удалении выбросов признак \"схлопнется\" в 0**"
   ]
  },
  {
   "cell_type": "code",
   "execution_count": 37,
   "metadata": {
    "execution": {
     "iopub.execute_input": "2021-01-20T19:28:48.193386Z",
     "iopub.status.busy": "2021-01-20T19:28:48.192253Z",
     "iopub.status.idle": "2021-01-20T19:28:48.379126Z",
     "shell.execute_reply": "2021-01-20T19:28:48.378408Z"
    },
    "papermill": {
     "duration": 0.282711,
     "end_time": "2021-01-20T19:28:48.379255",
     "exception": false,
     "start_time": "2021-01-20T19:28:48.096544",
     "status": "completed"
    },
    "tags": []
   },
   "outputs": [
    {
     "data": {
      "text/plain": [
       "<matplotlib.axes._subplots.AxesSubplot at 0x7fcc65cf1390>"
      ]
     },
     "execution_count": 37,
     "metadata": {},
     "output_type": "execute_result"
    },
    {
     "data": {
      "image/png": "[encoded data removed]",
      "text/plain": [
       "<Figure size 864x576 with 1 Axes>"
      ]
     },
     "metadata": {
      "needs_background": "light"
     },
     "output_type": "display_data"
    }
   ],
   "source": [
    "sns.boxplot(x=train.default, y=train.score_bki)"
   ]
  },
  {
   "cell_type": "markdown",
   "metadata": {
    "papermill": {
     "duration": 0.089492,
     "end_time": "2021-01-20T19:28:48.568307",
     "exception": false,
     "start_time": "2021-01-20T19:28:48.478815",
     "status": "completed"
    },
    "tags": []
   },
   "source": [
    "**Скоринговый балл у дефолтных заемщиков, в среднем, выше, чем у недефолтных, что довольно странно. Вероятно, логика этого признака такая, что чем ниже балл - тем надежнее заемщик. Есть выбросы, их можно убрать**"
   ]
  },
  {
   "cell_type": "code",
   "execution_count": 38,
   "metadata": {
    "execution": {
     "iopub.execute_input": "2021-01-20T19:28:48.754146Z",
     "iopub.status.busy": "2021-01-20T19:28:48.753067Z",
     "iopub.status.idle": "2021-01-20T19:28:48.943716Z",
     "shell.execute_reply": "2021-01-20T19:28:48.943099Z"
    },
    "papermill": {
     "duration": 0.286272,
     "end_time": "2021-01-20T19:28:48.943834",
     "exception": false,
     "start_time": "2021-01-20T19:28:48.657562",
     "status": "completed"
    },
    "tags": []
   },
   "outputs": [
    {
     "data": {
      "text/plain": [
       "<matplotlib.axes._subplots.AxesSubplot at 0x7fcc660030d0>"
      ]
     },
     "execution_count": 38,
     "metadata": {},
     "output_type": "execute_result"
    },
    {
     "data": {
      "image/png": "[encoded data removed]",
      "text/plain": [
       "<Figure size 864x576 with 1 Axes>"
      ]
     },
     "metadata": {
      "needs_background": "light"
     },
     "output_type": "display_data"
    }
   ],
   "source": [
    "sns.boxplot(x=train.default, y=train.bki_request_cnt)"
   ]
  },
  {
   "cell_type": "markdown",
   "metadata": {
    "papermill": {
     "duration": 0.091346,
     "end_time": "2021-01-20T19:28:49.127599",
     "exception": false,
     "start_time": "2021-01-20T19:28:49.036253",
     "status": "completed"
    },
    "tags": []
   },
   "source": [
    "**У дефолтных заемщиков количество запросов в БКИ, в среднем, выше, чем у недефолтных. Есть выбросы, можно убрать**"
   ]
  },
  {
   "cell_type": "code",
   "execution_count": 39,
   "metadata": {
    "execution": {
     "iopub.execute_input": "2021-01-20T19:28:49.317064Z",
     "iopub.status.busy": "2021-01-20T19:28:49.315962Z",
     "iopub.status.idle": "2021-01-20T19:28:49.509817Z",
     "shell.execute_reply": "2021-01-20T19:28:49.509209Z"
    },
    "papermill": {
     "duration": 0.291743,
     "end_time": "2021-01-20T19:28:49.509946",
     "exception": false,
     "start_time": "2021-01-20T19:28:49.218203",
     "status": "completed"
    },
    "tags": []
   },
   "outputs": [
    {
     "data": {
      "text/plain": [
       "<matplotlib.axes._subplots.AxesSubplot at 0x7fcc64de92d0>"
      ]
     },
     "execution_count": 39,
     "metadata": {},
     "output_type": "execute_result"
    },
    {
     "data": {
      "image/png": "[encoded data removed]",
      "text/plain": [
       "<Figure size 864x576 with 1 Axes>"
      ]
     },
     "metadata": {
      "needs_background": "light"
     },
     "output_type": "display_data"
    }
   ],
   "source": [
    "sns.boxplot(x=train.default, y=train.income)"
   ]
  },
  {
   "cell_type": "markdown",
   "metadata": {
    "papermill": {
     "duration": 0.092725,
     "end_time": "2021-01-20T19:28:49.695339",
     "exception": false,
     "start_time": "2021-01-20T19:28:49.602614",
     "status": "completed"
    },
    "tags": []
   },
   "source": [
    "**У недефолтных заемщиков доход, в среднем, чуть выше, чем у дефолтных. Есть выбросы, можно убрать**"
   ]
  },
  {
   "cell_type": "code",
   "execution_count": 40,
   "metadata": {
    "execution": {
     "iopub.execute_input": "2021-01-20T19:28:49.889078Z",
     "iopub.status.busy": "2021-01-20T19:28:49.887931Z",
     "iopub.status.idle": "2021-01-20T19:28:50.218040Z",
     "shell.execute_reply": "2021-01-20T19:28:50.217312Z"
    },
    "papermill": {
     "duration": 0.430254,
     "end_time": "2021-01-20T19:28:50.218189",
     "exception": false,
     "start_time": "2021-01-20T19:28:49.787935",
     "status": "completed"
    },
    "tags": []
   },
   "outputs": [
    {
     "data": {
      "text/plain": [
       "<matplotlib.axes._subplots.AxesSubplot at 0x7fcc65c211d0>"
      ]
     },
     "execution_count": 40,
     "metadata": {},
     "output_type": "execute_result"
    },
    {
     "data": {
      "image/png": "[encoded data removed]",
      "text/plain": [
       "<Figure size 864x576 with 1 Axes>"
      ]
     },
     "metadata": {
      "needs_background": "light"
     },
     "output_type": "display_data"
    }
   ],
   "source": [
    "sns.boxplot(x=train.default, y=train.region_rating)"
   ]
  },
  {
   "cell_type": "markdown",
   "metadata": {
    "papermill": {
     "duration": 0.095861,
     "end_time": "2021-01-20T19:28:50.421432",
     "exception": false,
     "start_time": "2021-01-20T19:28:50.325571",
     "status": "completed"
    },
    "tags": []
   },
   "source": [
    "**Среднее значение признака region_rating больше у недефолтных клиентов. Есть пару выбросов, их можно проигнорировать**"
   ]
  },
  {
   "cell_type": "markdown",
   "metadata": {
    "papermill": {
     "duration": 0.09944,
     "end_time": "2021-01-20T19:28:50.616825",
     "exception": false,
     "start_time": "2021-01-20T19:28:50.517385",
     "status": "completed"
    },
    "tags": []
   },
   "source": [
    "### **Избавимся от выбросов**"
   ]
  },
  {
   "cell_type": "code",
   "execution_count": 41,
   "metadata": {
    "execution": {
     "iopub.execute_input": "2021-01-20T19:28:50.814476Z",
     "iopub.status.busy": "2021-01-20T19:28:50.813368Z",
     "iopub.status.idle": "2021-01-20T19:28:50.817233Z",
     "shell.execute_reply": "2021-01-20T19:28:50.816637Z"
    },
    "papermill": {
     "duration": 0.105372,
     "end_time": "2021-01-20T19:28:50.817349",
     "exception": false,
     "start_time": "2021-01-20T19:28:50.711977",
     "status": "completed"
    },
    "tags": []
   },
   "outputs": [],
   "source": [
    "# Функция определяет межквартильный интервал и возвращает 1.5 межквартильных расстояния с обеих сторон от интервала\n",
    "\n",
    "def outliers_iqr(series):\n",
    "    quartile_1, quartile_3 = np.percentile(series, [25, 75])\n",
    "    iqr = quartile_3 - quartile_1\n",
    "    lower_bound = quartile_1 - (iqr * 1.5)\n",
    "    upper_bound = quartile_3 + (iqr * 1.5)\n",
    "    return lower_bound, upper_bound"
   ]
  },
  {
   "cell_type": "code",
   "execution_count": 42,
   "metadata": {
    "execution": {
     "iopub.execute_input": "2021-01-20T19:28:51.013073Z",
     "iopub.status.busy": "2021-01-20T19:28:51.012003Z",
     "iopub.status.idle": "2021-01-20T19:28:51.099926Z",
     "shell.execute_reply": "2021-01-20T19:28:51.100725Z"
    },
    "papermill": {
     "duration": 0.189737,
     "end_time": "2021-01-20T19:28:51.100966",
     "exception": false,
     "start_time": "2021-01-20T19:28:50.911229",
     "status": "completed"
    },
    "tags": []
   },
   "outputs": [
    {
     "name": "stdout",
     "output_type": "stream",
     "text": [
      "<class 'pandas.core.frame.DataFrame'>\n",
      "RangeIndex: 130031 entries, 0 to 130030\n",
      "Data columns (total 20 columns):\n",
      " #   Column            Non-Null Count   Dtype         \n",
      "---  ------            --------------   -----         \n",
      " 0   client_id         130031 non-null  int64         \n",
      " 1   app_date          130031 non-null  datetime64[ns]\n",
      " 2   education         130031 non-null  object        \n",
      " 3   sex               130031 non-null  object        \n",
      " 4   age               130031 non-null  float64       \n",
      " 5   car               130031 non-null  object        \n",
      " 6   car_type          130031 non-null  object        \n",
      " 7   decline_app_cnt   130031 non-null  float64       \n",
      " 8   good_work         130031 non-null  int64         \n",
      " 9   score_bki         130031 non-null  float64       \n",
      " 10  bki_request_cnt   130031 non-null  float64       \n",
      " 11  region_rating     130031 non-null  int64         \n",
      " 12  home_address      130031 non-null  int64         \n",
      " 13  work_address      130031 non-null  int64         \n",
      " 14  income            130031 non-null  float64       \n",
      " 15  sna               130031 non-null  int64         \n",
      " 16  first_time        130031 non-null  int64         \n",
      " 17  foreign_passport  130031 non-null  object        \n",
      " 18  default           130031 non-null  int64         \n",
      " 19  days_passed       130031 non-null  float64       \n",
      "dtypes: datetime64[ns](1), float64(6), int64(8), object(5)\n",
      "memory usage: 19.8+ MB\n"
     ]
    }
   ],
   "source": [
    "train.info()"
   ]
  },
  {
   "cell_type": "code",
   "execution_count": 43,
   "metadata": {
    "execution": {
     "iopub.execute_input": "2021-01-20T19:28:51.300747Z",
     "iopub.status.busy": "2021-01-20T19:28:51.299900Z",
     "iopub.status.idle": "2021-01-20T19:28:51.441207Z",
     "shell.execute_reply": "2021-01-20T19:28:51.441744Z"
    },
    "papermill": {
     "duration": 0.24586,
     "end_time": "2021-01-20T19:28:51.441918",
     "exception": false,
     "start_time": "2021-01-20T19:28:51.196058",
     "status": "completed"
    },
    "tags": []
   },
   "outputs": [
    {
     "name": "stdout",
     "output_type": "stream",
     "text": [
      "<class 'pandas.core.frame.DataFrame'>\n",
      "Int64Index: 123529 entries, 0 to 130030\n",
      "Data columns (total 20 columns):\n",
      " #   Column            Non-Null Count   Dtype         \n",
      "---  ------            --------------   -----         \n",
      " 0   client_id         123529 non-null  int64         \n",
      " 1   app_date          123529 non-null  datetime64[ns]\n",
      " 2   education         123529 non-null  object        \n",
      " 3   sex               123529 non-null  object        \n",
      " 4   age               123529 non-null  float64       \n",
      " 5   car               123529 non-null  object        \n",
      " 6   car_type          123529 non-null  object        \n",
      " 7   decline_app_cnt   123529 non-null  float64       \n",
      " 8   good_work         123529 non-null  int64         \n",
      " 9   score_bki         123529 non-null  float64       \n",
      " 10  bki_request_cnt   123529 non-null  float64       \n",
      " 11  region_rating     123529 non-null  int64         \n",
      " 12  home_address      123529 non-null  int64         \n",
      " 13  work_address      123529 non-null  int64         \n",
      " 14  income            123529 non-null  float64       \n",
      " 15  sna               123529 non-null  int64         \n",
      " 16  first_time        123529 non-null  int64         \n",
      " 17  foreign_passport  123529 non-null  object        \n",
      " 18  default           123529 non-null  int64         \n",
      " 19  days_passed       123529 non-null  float64       \n",
      "dtypes: datetime64[ns](1), float64(6), int64(8), object(5)\n",
      "memory usage: 19.8+ MB\n"
     ]
    }
   ],
   "source": [
    "# Убираем выбросы в численных столбцах\n",
    "outliers_num_cols = ['score_bki', 'bki_request_cnt', 'income']\n",
    "for colname in outliers_num_cols:\n",
    "    border = outliers_iqr(train[colname])\n",
    "    train = train.loc[train[colname].between(border[0], border[1])]\n",
    "\n",
    "train.info()"
   ]
  },
  {
   "cell_type": "code",
   "execution_count": 44,
   "metadata": {
    "execution": {
     "iopub.execute_input": "2021-01-20T19:28:51.649567Z",
     "iopub.status.busy": "2021-01-20T19:28:51.648835Z",
     "iopub.status.idle": "2021-01-20T19:28:51.656394Z",
     "shell.execute_reply": "2021-01-20T19:28:51.655706Z"
    },
    "papermill": {
     "duration": 0.10795,
     "end_time": "2021-01-20T19:28:51.656532",
     "exception": false,
     "start_time": "2021-01-20T19:28:51.548582",
     "status": "completed"
    },
    "tags": []
   },
   "outputs": [
    {
     "data": {
      "text/plain": [
       "1    61971\n",
       "0    61558\n",
       "Name: default, dtype: int64"
      ]
     },
     "execution_count": 44,
     "metadata": {},
     "output_type": "execute_result"
    }
   ],
   "source": [
    "# Проверим, что количество дефолтных и недефолтных клиентов осталось тем же\n",
    "train['default'].value_counts()"
   ]
  },
  {
   "cell_type": "markdown",
   "metadata": {
    "papermill": {
     "duration": 0.095036,
     "end_time": "2021-01-20T19:28:51.846609",
     "exception": false,
     "start_time": "2021-01-20T19:28:51.751573",
     "status": "completed"
    },
    "tags": []
   },
   "source": [
    "### **Преобразование бинарных и категориальных признаков**"
   ]
  },
  {
   "cell_type": "code",
   "execution_count": 45,
   "metadata": {
    "execution": {
     "iopub.execute_input": "2021-01-20T19:28:52.043825Z",
     "iopub.status.busy": "2021-01-20T19:28:52.042908Z",
     "iopub.status.idle": "2021-01-20T19:28:52.046895Z",
     "shell.execute_reply": "2021-01-20T19:28:52.046239Z"
    },
    "papermill": {
     "duration": 0.104494,
     "end_time": "2021-01-20T19:28:52.047007",
     "exception": false,
     "start_time": "2021-01-20T19:28:51.942513",
     "status": "completed"
    },
    "tags": []
   },
   "outputs": [
    {
     "name": "stdout",
     "output_type": "stream",
     "text": [
      "['sex', 'car', 'car_type', 'good_work', 'foreign_passport']\n"
     ]
    }
   ],
   "source": [
    "print(bin_cols)"
   ]
  },
  {
   "cell_type": "markdown",
   "metadata": {
    "papermill": {
     "duration": 0.094726,
     "end_time": "2021-01-20T19:28:52.237361",
     "exception": false,
     "start_time": "2021-01-20T19:28:52.142635",
     "status": "completed"
    },
    "tags": []
   },
   "source": [
    "#### **Преобразуем бинарные переменные при помощи класса LabelEncoder**"
   ]
  },
  {
   "cell_type": "code",
   "execution_count": 46,
   "metadata": {
    "execution": {
     "iopub.execute_input": "2021-01-20T19:28:52.479228Z",
     "iopub.status.busy": "2021-01-20T19:28:52.477954Z",
     "iopub.status.idle": "2021-01-20T19:28:52.703330Z",
     "shell.execute_reply": "2021-01-20T19:28:52.702812Z"
    },
    "papermill": {
     "duration": 0.370905,
     "end_time": "2021-01-20T19:28:52.703460",
     "exception": false,
     "start_time": "2021-01-20T19:28:52.332555",
     "status": "completed"
    },
    "tags": []
   },
   "outputs": [
    {
     "data": {
      "text/html": [
       "<div>\n",
       "<style scoped>\n",
       "    .dataframe tbody tr th:only-of-type {\n",
       "        vertical-align: middle;\n",
       "    }\n",
       "\n",
       "    .dataframe tbody tr th {\n",
       "        vertical-align: top;\n",
       "    }\n",
       "\n",
       "    .dataframe thead th {\n",
       "        text-align: right;\n",
       "    }\n",
       "</style>\n",
       "<table border=\"1\" class=\"dataframe\">\n",
       "  <thead>\n",
       "    <tr style=\"text-align: right;\">\n",
       "      <th></th>\n",
       "      <th>client_id</th>\n",
       "      <th>app_date</th>\n",
       "      <th>education</th>\n",
       "      <th>sex</th>\n",
       "      <th>age</th>\n",
       "      <th>car</th>\n",
       "      <th>car_type</th>\n",
       "      <th>decline_app_cnt</th>\n",
       "      <th>good_work</th>\n",
       "      <th>score_bki</th>\n",
       "      <th>bki_request_cnt</th>\n",
       "      <th>region_rating</th>\n",
       "      <th>home_address</th>\n",
       "      <th>work_address</th>\n",
       "      <th>income</th>\n",
       "      <th>sna</th>\n",
       "      <th>first_time</th>\n",
       "      <th>foreign_passport</th>\n",
       "      <th>default</th>\n",
       "      <th>days_passed</th>\n",
       "    </tr>\n",
       "  </thead>\n",
       "  <tbody>\n",
       "    <tr>\n",
       "      <th>0</th>\n",
       "      <td>25905</td>\n",
       "      <td>2014-02-01</td>\n",
       "      <td>SCH</td>\n",
       "      <td>1</td>\n",
       "      <td>7.874008</td>\n",
       "      <td>1</td>\n",
       "      <td>1</td>\n",
       "      <td>0.000000</td>\n",
       "      <td>0</td>\n",
       "      <td>-2.008753</td>\n",
       "      <td>1.000000</td>\n",
       "      <td>50</td>\n",
       "      <td>1</td>\n",
       "      <td>2</td>\n",
       "      <td>10.798127</td>\n",
       "      <td>4</td>\n",
       "      <td>1</td>\n",
       "      <td>0</td>\n",
       "      <td>0</td>\n",
       "      <td>8.841886</td>\n",
       "    </tr>\n",
       "    <tr>\n",
       "      <th>1</th>\n",
       "      <td>63161</td>\n",
       "      <td>2014-03-12</td>\n",
       "      <td>SCH</td>\n",
       "      <td>0</td>\n",
       "      <td>7.681146</td>\n",
       "      <td>0</td>\n",
       "      <td>0</td>\n",
       "      <td>0.000000</td>\n",
       "      <td>0</td>\n",
       "      <td>-1.532276</td>\n",
       "      <td>1.732051</td>\n",
       "      <td>50</td>\n",
       "      <td>2</td>\n",
       "      <td>3</td>\n",
       "      <td>10.852194</td>\n",
       "      <td>4</td>\n",
       "      <td>1</td>\n",
       "      <td>0</td>\n",
       "      <td>0</td>\n",
       "      <td>8.826443</td>\n",
       "    </tr>\n",
       "    <tr>\n",
       "      <th>2</th>\n",
       "      <td>25887</td>\n",
       "      <td>2014-02-01</td>\n",
       "      <td>SCH</td>\n",
       "      <td>1</td>\n",
       "      <td>5.000000</td>\n",
       "      <td>1</td>\n",
       "      <td>0</td>\n",
       "      <td>1.414214</td>\n",
       "      <td>0</td>\n",
       "      <td>-1.408142</td>\n",
       "      <td>1.000000</td>\n",
       "      <td>80</td>\n",
       "      <td>1</td>\n",
       "      <td>2</td>\n",
       "      <td>11.308953</td>\n",
       "      <td>1</td>\n",
       "      <td>4</td>\n",
       "      <td>1</td>\n",
       "      <td>0</td>\n",
       "      <td>8.841886</td>\n",
       "    </tr>\n",
       "    <tr>\n",
       "      <th>3</th>\n",
       "      <td>16222</td>\n",
       "      <td>2014-01-23</td>\n",
       "      <td>SCH</td>\n",
       "      <td>0</td>\n",
       "      <td>7.280110</td>\n",
       "      <td>0</td>\n",
       "      <td>0</td>\n",
       "      <td>0.000000</td>\n",
       "      <td>0</td>\n",
       "      <td>-2.057471</td>\n",
       "      <td>1.414214</td>\n",
       "      <td>50</td>\n",
       "      <td>2</td>\n",
       "      <td>3</td>\n",
       "      <td>10.210340</td>\n",
       "      <td>1</td>\n",
       "      <td>3</td>\n",
       "      <td>0</td>\n",
       "      <td>0</td>\n",
       "      <td>8.845416</td>\n",
       "    </tr>\n",
       "    <tr>\n",
       "      <th>4</th>\n",
       "      <td>101655</td>\n",
       "      <td>2014-04-18</td>\n",
       "      <td>GRD</td>\n",
       "      <td>1</td>\n",
       "      <td>6.928203</td>\n",
       "      <td>0</td>\n",
       "      <td>0</td>\n",
       "      <td>0.000000</td>\n",
       "      <td>1</td>\n",
       "      <td>-1.244723</td>\n",
       "      <td>1.000000</td>\n",
       "      <td>60</td>\n",
       "      <td>2</td>\n",
       "      <td>3</td>\n",
       "      <td>11.308953</td>\n",
       "      <td>1</td>\n",
       "      <td>4</td>\n",
       "      <td>1</td>\n",
       "      <td>0</td>\n",
       "      <td>8.811568</td>\n",
       "    </tr>\n",
       "  </tbody>\n",
       "</table>\n",
       "</div>"
      ],
      "text/plain": [
       "   client_id   app_date education  sex       age  car  car_type  \\\n",
       "0      25905 2014-02-01       SCH    1  7.874008    1         1   \n",
       "1      63161 2014-03-12       SCH    0  7.681146    0         0   \n",
       "2      25887 2014-02-01       SCH    1  5.000000    1         0   \n",
       "3      16222 2014-01-23       SCH    0  7.280110    0         0   \n",
       "4     101655 2014-04-18       GRD    1  6.928203    0         0   \n",
       "\n",
       "   decline_app_cnt  good_work  score_bki  bki_request_cnt  region_rating  \\\n",
       "0         0.000000          0  -2.008753         1.000000             50   \n",
       "1         0.000000          0  -1.532276         1.732051             50   \n",
       "2         1.414214          0  -1.408142         1.000000             80   \n",
       "3         0.000000          0  -2.057471         1.414214             50   \n",
       "4         0.000000          1  -1.244723         1.000000             60   \n",
       "\n",
       "   home_address  work_address     income  sna  first_time  foreign_passport  \\\n",
       "0             1             2  10.798127    4           1                 0   \n",
       "1             2             3  10.852194    4           1                 0   \n",
       "2             1             2  11.308953    1           4                 1   \n",
       "3             2             3  10.210340    1           3                 0   \n",
       "4             2             3  11.308953    1           4                 1   \n",
       "\n",
       "   default  days_passed  \n",
       "0        0     8.841886  \n",
       "1        0     8.826443  \n",
       "2        0     8.841886  \n",
       "3        0     8.845416  \n",
       "4        0     8.811568  "
      ]
     },
     "metadata": {},
     "output_type": "display_data"
    },
    {
     "data": {
      "text/html": [
       "<div>\n",
       "<style scoped>\n",
       "    .dataframe tbody tr th:only-of-type {\n",
       "        vertical-align: middle;\n",
       "    }\n",
       "\n",
       "    .dataframe tbody tr th {\n",
       "        vertical-align: top;\n",
       "    }\n",
       "\n",
       "    .dataframe thead th {\n",
       "        text-align: right;\n",
       "    }\n",
       "</style>\n",
       "<table border=\"1\" class=\"dataframe\">\n",
       "  <thead>\n",
       "    <tr style=\"text-align: right;\">\n",
       "      <th></th>\n",
       "      <th>client_id</th>\n",
       "      <th>app_date</th>\n",
       "      <th>education</th>\n",
       "      <th>sex</th>\n",
       "      <th>age</th>\n",
       "      <th>car</th>\n",
       "      <th>car_type</th>\n",
       "      <th>decline_app_cnt</th>\n",
       "      <th>good_work</th>\n",
       "      <th>score_bki</th>\n",
       "      <th>bki_request_cnt</th>\n",
       "      <th>region_rating</th>\n",
       "      <th>home_address</th>\n",
       "      <th>work_address</th>\n",
       "      <th>income</th>\n",
       "      <th>sna</th>\n",
       "      <th>first_time</th>\n",
       "      <th>foreign_passport</th>\n",
       "      <th>days_passed</th>\n",
       "    </tr>\n",
       "  </thead>\n",
       "  <tbody>\n",
       "    <tr>\n",
       "      <th>0</th>\n",
       "      <td>74835</td>\n",
       "      <td>2014-03-22</td>\n",
       "      <td>GRD</td>\n",
       "      <td>1</td>\n",
       "      <td>5.385165</td>\n",
       "      <td>1</td>\n",
       "      <td>1</td>\n",
       "      <td>0.000000</td>\n",
       "      <td>0</td>\n",
       "      <td>-2.271884</td>\n",
       "      <td>1.732051</td>\n",
       "      <td>50</td>\n",
       "      <td>1</td>\n",
       "      <td>2</td>\n",
       "      <td>11.819778</td>\n",
       "      <td>1</td>\n",
       "      <td>4</td>\n",
       "      <td>0</td>\n",
       "      <td>8.822445</td>\n",
       "    </tr>\n",
       "    <tr>\n",
       "      <th>1</th>\n",
       "      <td>17527</td>\n",
       "      <td>2014-01-24</td>\n",
       "      <td>SCH</td>\n",
       "      <td>0</td>\n",
       "      <td>6.244998</td>\n",
       "      <td>0</td>\n",
       "      <td>0</td>\n",
       "      <td>2.236068</td>\n",
       "      <td>0</td>\n",
       "      <td>-1.504999</td>\n",
       "      <td>1.414214</td>\n",
       "      <td>50</td>\n",
       "      <td>1</td>\n",
       "      <td>2</td>\n",
       "      <td>9.517193</td>\n",
       "      <td>4</td>\n",
       "      <td>3</td>\n",
       "      <td>0</td>\n",
       "      <td>8.845024</td>\n",
       "    </tr>\n",
       "    <tr>\n",
       "      <th>2</th>\n",
       "      <td>75683</td>\n",
       "      <td>2014-03-23</td>\n",
       "      <td>UGR</td>\n",
       "      <td>1</td>\n",
       "      <td>7.071068</td>\n",
       "      <td>1</td>\n",
       "      <td>1</td>\n",
       "      <td>0.000000</td>\n",
       "      <td>0</td>\n",
       "      <td>-1.691339</td>\n",
       "      <td>1.000000</td>\n",
       "      <td>50</td>\n",
       "      <td>1</td>\n",
       "      <td>2</td>\n",
       "      <td>11.308953</td>\n",
       "      <td>1</td>\n",
       "      <td>3</td>\n",
       "      <td>1</td>\n",
       "      <td>8.822044</td>\n",
       "    </tr>\n",
       "    <tr>\n",
       "      <th>3</th>\n",
       "      <td>26883</td>\n",
       "      <td>2014-02-03</td>\n",
       "      <td>SCH</td>\n",
       "      <td>1</td>\n",
       "      <td>7.483315</td>\n",
       "      <td>0</td>\n",
       "      <td>0</td>\n",
       "      <td>0.000000</td>\n",
       "      <td>0</td>\n",
       "      <td>-2.374182</td>\n",
       "      <td>1.000000</td>\n",
       "      <td>40</td>\n",
       "      <td>1</td>\n",
       "      <td>2</td>\n",
       "      <td>10.740969</td>\n",
       "      <td>1</td>\n",
       "      <td>3</td>\n",
       "      <td>0</td>\n",
       "      <td>8.841100</td>\n",
       "    </tr>\n",
       "    <tr>\n",
       "      <th>4</th>\n",
       "      <td>28862</td>\n",
       "      <td>2014-02-04</td>\n",
       "      <td>GRD</td>\n",
       "      <td>0</td>\n",
       "      <td>6.164414</td>\n",
       "      <td>0</td>\n",
       "      <td>0</td>\n",
       "      <td>0.000000</td>\n",
       "      <td>0</td>\n",
       "      <td>-2.487502</td>\n",
       "      <td>0.000000</td>\n",
       "      <td>80</td>\n",
       "      <td>2</td>\n",
       "      <td>3</td>\n",
       "      <td>12.695247</td>\n",
       "      <td>1</td>\n",
       "      <td>3</td>\n",
       "      <td>0</td>\n",
       "      <td>8.840706</td>\n",
       "    </tr>\n",
       "  </tbody>\n",
       "</table>\n",
       "</div>"
      ],
      "text/plain": [
       "   client_id   app_date education  sex       age  car  car_type  \\\n",
       "0      74835 2014-03-22       GRD    1  5.385165    1         1   \n",
       "1      17527 2014-01-24       SCH    0  6.244998    0         0   \n",
       "2      75683 2014-03-23       UGR    1  7.071068    1         1   \n",
       "3      26883 2014-02-03       SCH    1  7.483315    0         0   \n",
       "4      28862 2014-02-04       GRD    0  6.164414    0         0   \n",
       "\n",
       "   decline_app_cnt  good_work  score_bki  bki_request_cnt  region_rating  \\\n",
       "0         0.000000          0  -2.271884         1.732051             50   \n",
       "1         2.236068          0  -1.504999         1.414214             50   \n",
       "2         0.000000          0  -1.691339         1.000000             50   \n",
       "3         0.000000          0  -2.374182         1.000000             40   \n",
       "4         0.000000          0  -2.487502         0.000000             80   \n",
       "\n",
       "   home_address  work_address     income  sna  first_time  foreign_passport  \\\n",
       "0             1             2  11.819778    1           4                 0   \n",
       "1             1             2   9.517193    4           3                 0   \n",
       "2             1             2  11.308953    1           3                 1   \n",
       "3             1             2  10.740969    1           3                 0   \n",
       "4             2             3  12.695247    1           3                 0   \n",
       "\n",
       "   days_passed  \n",
       "0     8.822445  \n",
       "1     8.845024  \n",
       "2     8.822044  \n",
       "3     8.841100  \n",
       "4     8.840706  "
      ]
     },
     "metadata": {},
     "output_type": "display_data"
    }
   ],
   "source": [
    "label_encoder = LabelEncoder()\n",
    "\n",
    "for column in bin_cols:\n",
    "    train[column] = label_encoder.fit_transform(train[column])\n",
    "    test[column] = label_encoder.fit_transform(test[column])\n",
    "\n",
    "\n",
    "# убедимся в преобразовании\n",
    "display(train.head())\n",
    "display(test.head())"
   ]
  },
  {
   "cell_type": "code",
   "execution_count": 47,
   "metadata": {
    "execution": {
     "iopub.execute_input": "2021-01-20T19:28:52.902248Z",
     "iopub.status.busy": "2021-01-20T19:28:52.901440Z",
     "iopub.status.idle": "2021-01-20T19:28:52.905971Z",
     "shell.execute_reply": "2021-01-20T19:28:52.905339Z"
    },
    "papermill": {
     "duration": 0.105761,
     "end_time": "2021-01-20T19:28:52.906095",
     "exception": false,
     "start_time": "2021-01-20T19:28:52.800334",
     "status": "completed"
    },
    "tags": []
   },
   "outputs": [
    {
     "name": "stdout",
     "output_type": "stream",
     "text": [
      "['education', 'home_address', 'work_address', 'sna', 'first_time']\n"
     ]
    }
   ],
   "source": [
    "print(cat_cols)"
   ]
  },
  {
   "cell_type": "markdown",
   "metadata": {
    "papermill": {
     "duration": 0.099128,
     "end_time": "2021-01-20T19:28:53.104581",
     "exception": false,
     "start_time": "2021-01-20T19:28:53.005453",
     "status": "completed"
    },
    "tags": []
   },
   "source": [
    "#### **Разложим признак education на dummy-признаки**"
   ]
  },
  {
   "cell_type": "code",
   "execution_count": 48,
   "metadata": {
    "execution": {
     "iopub.execute_input": "2021-01-20T19:28:53.308150Z",
     "iopub.status.busy": "2021-01-20T19:28:53.307450Z",
     "iopub.status.idle": "2021-01-20T19:28:53.407301Z",
     "shell.execute_reply": "2021-01-20T19:28:53.406678Z"
    },
    "papermill": {
     "duration": 0.201287,
     "end_time": "2021-01-20T19:28:53.407420",
     "exception": false,
     "start_time": "2021-01-20T19:28:53.206133",
     "status": "completed"
    },
    "tags": []
   },
   "outputs": [
    {
     "data": {
      "text/html": [
       "<div>\n",
       "<style scoped>\n",
       "    .dataframe tbody tr th:only-of-type {\n",
       "        vertical-align: middle;\n",
       "    }\n",
       "\n",
       "    .dataframe tbody tr th {\n",
       "        vertical-align: top;\n",
       "    }\n",
       "\n",
       "    .dataframe thead th {\n",
       "        text-align: right;\n",
       "    }\n",
       "</style>\n",
       "<table border=\"1\" class=\"dataframe\">\n",
       "  <thead>\n",
       "    <tr style=\"text-align: right;\">\n",
       "      <th></th>\n",
       "      <th>client_id</th>\n",
       "      <th>app_date</th>\n",
       "      <th>sex</th>\n",
       "      <th>age</th>\n",
       "      <th>car</th>\n",
       "      <th>car_type</th>\n",
       "      <th>decline_app_cnt</th>\n",
       "      <th>good_work</th>\n",
       "      <th>score_bki</th>\n",
       "      <th>bki_request_cnt</th>\n",
       "      <th>region_rating</th>\n",
       "      <th>home_address</th>\n",
       "      <th>work_address</th>\n",
       "      <th>income</th>\n",
       "      <th>sna</th>\n",
       "      <th>first_time</th>\n",
       "      <th>foreign_passport</th>\n",
       "      <th>default</th>\n",
       "      <th>days_passed</th>\n",
       "      <th>education_ACD</th>\n",
       "      <th>education_GRD</th>\n",
       "      <th>education_PGR</th>\n",
       "      <th>education_SCH</th>\n",
       "      <th>education_UGR</th>\n",
       "    </tr>\n",
       "  </thead>\n",
       "  <tbody>\n",
       "    <tr>\n",
       "      <th>0</th>\n",
       "      <td>25905</td>\n",
       "      <td>2014-02-01</td>\n",
       "      <td>1</td>\n",
       "      <td>7.874008</td>\n",
       "      <td>1</td>\n",
       "      <td>1</td>\n",
       "      <td>0.000000</td>\n",
       "      <td>0</td>\n",
       "      <td>-2.008753</td>\n",
       "      <td>1.000000</td>\n",
       "      <td>50</td>\n",
       "      <td>1</td>\n",
       "      <td>2</td>\n",
       "      <td>10.798127</td>\n",
       "      <td>4</td>\n",
       "      <td>1</td>\n",
       "      <td>0</td>\n",
       "      <td>0</td>\n",
       "      <td>8.841886</td>\n",
       "      <td>0</td>\n",
       "      <td>0</td>\n",
       "      <td>0</td>\n",
       "      <td>1</td>\n",
       "      <td>0</td>\n",
       "    </tr>\n",
       "    <tr>\n",
       "      <th>1</th>\n",
       "      <td>63161</td>\n",
       "      <td>2014-03-12</td>\n",
       "      <td>0</td>\n",
       "      <td>7.681146</td>\n",
       "      <td>0</td>\n",
       "      <td>0</td>\n",
       "      <td>0.000000</td>\n",
       "      <td>0</td>\n",
       "      <td>-1.532276</td>\n",
       "      <td>1.732051</td>\n",
       "      <td>50</td>\n",
       "      <td>2</td>\n",
       "      <td>3</td>\n",
       "      <td>10.852194</td>\n",
       "      <td>4</td>\n",
       "      <td>1</td>\n",
       "      <td>0</td>\n",
       "      <td>0</td>\n",
       "      <td>8.826443</td>\n",
       "      <td>0</td>\n",
       "      <td>0</td>\n",
       "      <td>0</td>\n",
       "      <td>1</td>\n",
       "      <td>0</td>\n",
       "    </tr>\n",
       "    <tr>\n",
       "      <th>2</th>\n",
       "      <td>25887</td>\n",
       "      <td>2014-02-01</td>\n",
       "      <td>1</td>\n",
       "      <td>5.000000</td>\n",
       "      <td>1</td>\n",
       "      <td>0</td>\n",
       "      <td>1.414214</td>\n",
       "      <td>0</td>\n",
       "      <td>-1.408142</td>\n",
       "      <td>1.000000</td>\n",
       "      <td>80</td>\n",
       "      <td>1</td>\n",
       "      <td>2</td>\n",
       "      <td>11.308953</td>\n",
       "      <td>1</td>\n",
       "      <td>4</td>\n",
       "      <td>1</td>\n",
       "      <td>0</td>\n",
       "      <td>8.841886</td>\n",
       "      <td>0</td>\n",
       "      <td>0</td>\n",
       "      <td>0</td>\n",
       "      <td>1</td>\n",
       "      <td>0</td>\n",
       "    </tr>\n",
       "    <tr>\n",
       "      <th>3</th>\n",
       "      <td>16222</td>\n",
       "      <td>2014-01-23</td>\n",
       "      <td>0</td>\n",
       "      <td>7.280110</td>\n",
       "      <td>0</td>\n",
       "      <td>0</td>\n",
       "      <td>0.000000</td>\n",
       "      <td>0</td>\n",
       "      <td>-2.057471</td>\n",
       "      <td>1.414214</td>\n",
       "      <td>50</td>\n",
       "      <td>2</td>\n",
       "      <td>3</td>\n",
       "      <td>10.210340</td>\n",
       "      <td>1</td>\n",
       "      <td>3</td>\n",
       "      <td>0</td>\n",
       "      <td>0</td>\n",
       "      <td>8.845416</td>\n",
       "      <td>0</td>\n",
       "      <td>0</td>\n",
       "      <td>0</td>\n",
       "      <td>1</td>\n",
       "      <td>0</td>\n",
       "    </tr>\n",
       "    <tr>\n",
       "      <th>4</th>\n",
       "      <td>101655</td>\n",
       "      <td>2014-04-18</td>\n",
       "      <td>1</td>\n",
       "      <td>6.928203</td>\n",
       "      <td>0</td>\n",
       "      <td>0</td>\n",
       "      <td>0.000000</td>\n",
       "      <td>1</td>\n",
       "      <td>-1.244723</td>\n",
       "      <td>1.000000</td>\n",
       "      <td>60</td>\n",
       "      <td>2</td>\n",
       "      <td>3</td>\n",
       "      <td>11.308953</td>\n",
       "      <td>1</td>\n",
       "      <td>4</td>\n",
       "      <td>1</td>\n",
       "      <td>0</td>\n",
       "      <td>8.811568</td>\n",
       "      <td>0</td>\n",
       "      <td>1</td>\n",
       "      <td>0</td>\n",
       "      <td>0</td>\n",
       "      <td>0</td>\n",
       "    </tr>\n",
       "  </tbody>\n",
       "</table>\n",
       "</div>"
      ],
      "text/plain": [
       "   client_id   app_date  sex       age  car  car_type  decline_app_cnt  \\\n",
       "0      25905 2014-02-01    1  7.874008    1         1         0.000000   \n",
       "1      63161 2014-03-12    0  7.681146    0         0         0.000000   \n",
       "2      25887 2014-02-01    1  5.000000    1         0         1.414214   \n",
       "3      16222 2014-01-23    0  7.280110    0         0         0.000000   \n",
       "4     101655 2014-04-18    1  6.928203    0         0         0.000000   \n",
       "\n",
       "   good_work  score_bki  bki_request_cnt  region_rating  home_address  \\\n",
       "0          0  -2.008753         1.000000             50             1   \n",
       "1          0  -1.532276         1.732051             50             2   \n",
       "2          0  -1.408142         1.000000             80             1   \n",
       "3          0  -2.057471         1.414214             50             2   \n",
       "4          1  -1.244723         1.000000             60             2   \n",
       "\n",
       "   work_address     income  sna  first_time  foreign_passport  default  \\\n",
       "0             2  10.798127    4           1                 0        0   \n",
       "1             3  10.852194    4           1                 0        0   \n",
       "2             2  11.308953    1           4                 1        0   \n",
       "3             3  10.210340    1           3                 0        0   \n",
       "4             3  11.308953    1           4                 1        0   \n",
       "\n",
       "   days_passed  education_ACD  education_GRD  education_PGR  education_SCH  \\\n",
       "0     8.841886              0              0              0              1   \n",
       "1     8.826443              0              0              0              1   \n",
       "2     8.841886              0              0              0              1   \n",
       "3     8.845416              0              0              0              1   \n",
       "4     8.811568              0              1              0              0   \n",
       "\n",
       "   education_UGR  \n",
       "0              0  \n",
       "1              0  \n",
       "2              0  \n",
       "3              0  \n",
       "4              0  "
      ]
     },
     "metadata": {},
     "output_type": "display_data"
    },
    {
     "data": {
      "text/html": [
       "<div>\n",
       "<style scoped>\n",
       "    .dataframe tbody tr th:only-of-type {\n",
       "        vertical-align: middle;\n",
       "    }\n",
       "\n",
       "    .dataframe tbody tr th {\n",
       "        vertical-align: top;\n",
       "    }\n",
       "\n",
       "    .dataframe thead th {\n",
       "        text-align: right;\n",
       "    }\n",
       "</style>\n",
       "<table border=\"1\" class=\"dataframe\">\n",
       "  <thead>\n",
       "    <tr style=\"text-align: right;\">\n",
       "      <th></th>\n",
       "      <th>client_id</th>\n",
       "      <th>app_date</th>\n",
       "      <th>sex</th>\n",
       "      <th>age</th>\n",
       "      <th>car</th>\n",
       "      <th>car_type</th>\n",
       "      <th>decline_app_cnt</th>\n",
       "      <th>good_work</th>\n",
       "      <th>score_bki</th>\n",
       "      <th>bki_request_cnt</th>\n",
       "      <th>region_rating</th>\n",
       "      <th>home_address</th>\n",
       "      <th>work_address</th>\n",
       "      <th>income</th>\n",
       "      <th>sna</th>\n",
       "      <th>first_time</th>\n",
       "      <th>foreign_passport</th>\n",
       "      <th>days_passed</th>\n",
       "      <th>education_ACD</th>\n",
       "      <th>education_GRD</th>\n",
       "      <th>education_PGR</th>\n",
       "      <th>education_SCH</th>\n",
       "      <th>education_UGR</th>\n",
       "    </tr>\n",
       "  </thead>\n",
       "  <tbody>\n",
       "    <tr>\n",
       "      <th>0</th>\n",
       "      <td>74835</td>\n",
       "      <td>2014-03-22</td>\n",
       "      <td>1</td>\n",
       "      <td>5.385165</td>\n",
       "      <td>1</td>\n",
       "      <td>1</td>\n",
       "      <td>0.000000</td>\n",
       "      <td>0</td>\n",
       "      <td>-2.271884</td>\n",
       "      <td>1.732051</td>\n",
       "      <td>50</td>\n",
       "      <td>1</td>\n",
       "      <td>2</td>\n",
       "      <td>11.819778</td>\n",
       "      <td>1</td>\n",
       "      <td>4</td>\n",
       "      <td>0</td>\n",
       "      <td>8.822445</td>\n",
       "      <td>0</td>\n",
       "      <td>1</td>\n",
       "      <td>0</td>\n",
       "      <td>0</td>\n",
       "      <td>0</td>\n",
       "    </tr>\n",
       "    <tr>\n",
       "      <th>1</th>\n",
       "      <td>17527</td>\n",
       "      <td>2014-01-24</td>\n",
       "      <td>0</td>\n",
       "      <td>6.244998</td>\n",
       "      <td>0</td>\n",
       "      <td>0</td>\n",
       "      <td>2.236068</td>\n",
       "      <td>0</td>\n",
       "      <td>-1.504999</td>\n",
       "      <td>1.414214</td>\n",
       "      <td>50</td>\n",
       "      <td>1</td>\n",
       "      <td>2</td>\n",
       "      <td>9.517193</td>\n",
       "      <td>4</td>\n",
       "      <td>3</td>\n",
       "      <td>0</td>\n",
       "      <td>8.845024</td>\n",
       "      <td>0</td>\n",
       "      <td>0</td>\n",
       "      <td>0</td>\n",
       "      <td>1</td>\n",
       "      <td>0</td>\n",
       "    </tr>\n",
       "    <tr>\n",
       "      <th>2</th>\n",
       "      <td>75683</td>\n",
       "      <td>2014-03-23</td>\n",
       "      <td>1</td>\n",
       "      <td>7.071068</td>\n",
       "      <td>1</td>\n",
       "      <td>1</td>\n",
       "      <td>0.000000</td>\n",
       "      <td>0</td>\n",
       "      <td>-1.691339</td>\n",
       "      <td>1.000000</td>\n",
       "      <td>50</td>\n",
       "      <td>1</td>\n",
       "      <td>2</td>\n",
       "      <td>11.308953</td>\n",
       "      <td>1</td>\n",
       "      <td>3</td>\n",
       "      <td>1</td>\n",
       "      <td>8.822044</td>\n",
       "      <td>0</td>\n",
       "      <td>0</td>\n",
       "      <td>0</td>\n",
       "      <td>0</td>\n",
       "      <td>1</td>\n",
       "    </tr>\n",
       "    <tr>\n",
       "      <th>3</th>\n",
       "      <td>26883</td>\n",
       "      <td>2014-02-03</td>\n",
       "      <td>1</td>\n",
       "      <td>7.483315</td>\n",
       "      <td>0</td>\n",
       "      <td>0</td>\n",
       "      <td>0.000000</td>\n",
       "      <td>0</td>\n",
       "      <td>-2.374182</td>\n",
       "      <td>1.000000</td>\n",
       "      <td>40</td>\n",
       "      <td>1</td>\n",
       "      <td>2</td>\n",
       "      <td>10.740969</td>\n",
       "      <td>1</td>\n",
       "      <td>3</td>\n",
       "      <td>0</td>\n",
       "      <td>8.841100</td>\n",
       "      <td>0</td>\n",
       "      <td>0</td>\n",
       "      <td>0</td>\n",
       "      <td>1</td>\n",
       "      <td>0</td>\n",
       "    </tr>\n",
       "    <tr>\n",
       "      <th>4</th>\n",
       "      <td>28862</td>\n",
       "      <td>2014-02-04</td>\n",
       "      <td>0</td>\n",
       "      <td>6.164414</td>\n",
       "      <td>0</td>\n",
       "      <td>0</td>\n",
       "      <td>0.000000</td>\n",
       "      <td>0</td>\n",
       "      <td>-2.487502</td>\n",
       "      <td>0.000000</td>\n",
       "      <td>80</td>\n",
       "      <td>2</td>\n",
       "      <td>3</td>\n",
       "      <td>12.695247</td>\n",
       "      <td>1</td>\n",
       "      <td>3</td>\n",
       "      <td>0</td>\n",
       "      <td>8.840706</td>\n",
       "      <td>0</td>\n",
       "      <td>1</td>\n",
       "      <td>0</td>\n",
       "      <td>0</td>\n",
       "      <td>0</td>\n",
       "    </tr>\n",
       "  </tbody>\n",
       "</table>\n",
       "</div>"
      ],
      "text/plain": [
       "   client_id   app_date  sex       age  car  car_type  decline_app_cnt  \\\n",
       "0      74835 2014-03-22    1  5.385165    1         1         0.000000   \n",
       "1      17527 2014-01-24    0  6.244998    0         0         2.236068   \n",
       "2      75683 2014-03-23    1  7.071068    1         1         0.000000   \n",
       "3      26883 2014-02-03    1  7.483315    0         0         0.000000   \n",
       "4      28862 2014-02-04    0  6.164414    0         0         0.000000   \n",
       "\n",
       "   good_work  score_bki  bki_request_cnt  region_rating  home_address  \\\n",
       "0          0  -2.271884         1.732051             50             1   \n",
       "1          0  -1.504999         1.414214             50             1   \n",
       "2          0  -1.691339         1.000000             50             1   \n",
       "3          0  -2.374182         1.000000             40             1   \n",
       "4          0  -2.487502         0.000000             80             2   \n",
       "\n",
       "   work_address     income  sna  first_time  foreign_passport  days_passed  \\\n",
       "0             2  11.819778    1           4                 0     8.822445   \n",
       "1             2   9.517193    4           3                 0     8.845024   \n",
       "2             2  11.308953    1           3                 1     8.822044   \n",
       "3             2  10.740969    1           3                 0     8.841100   \n",
       "4             3  12.695247    1           3                 0     8.840706   \n",
       "\n",
       "   education_ACD  education_GRD  education_PGR  education_SCH  education_UGR  \n",
       "0              0              1              0              0              0  \n",
       "1              0              0              0              1              0  \n",
       "2              0              0              0              0              1  \n",
       "3              0              0              0              1              0  \n",
       "4              0              1              0              0              0  "
      ]
     },
     "metadata": {},
     "output_type": "display_data"
    }
   ],
   "source": [
    "train = pd.get_dummies(train, columns=['education'])\n",
    "test = pd.get_dummies(test, columns=['education'])\n",
    "\n",
    "# убедимся в преобразовании\n",
    "display(train.head())\n",
    "display(test.head())"
   ]
  },
  {
   "cell_type": "markdown",
   "metadata": {
    "papermill": {
     "duration": 0.100047,
     "end_time": "2021-01-20T19:28:53.657429",
     "exception": false,
     "start_time": "2021-01-20T19:28:53.557382",
     "status": "completed"
    },
    "tags": []
   },
   "source": [
    "#### **Преобразуем категориальные переменные при помощи OneHotEncoder**"
   ]
  },
  {
   "cell_type": "code",
   "execution_count": 49,
   "metadata": {
    "execution": {
     "iopub.execute_input": "2021-01-20T19:28:53.867550Z",
     "iopub.status.busy": "2021-01-20T19:28:53.866776Z",
     "iopub.status.idle": "2021-01-20T19:28:54.035987Z",
     "shell.execute_reply": "2021-01-20T19:28:54.036516Z"
    },
    "papermill": {
     "duration": 0.279206,
     "end_time": "2021-01-20T19:28:54.036678",
     "exception": false,
     "start_time": "2021-01-20T19:28:53.757472",
     "status": "completed"
    },
    "tags": []
   },
   "outputs": [
    {
     "name": "stdout",
     "output_type": "stream",
     "text": [
      "(123529, 24)\n",
      "(36349, 24)\n"
     ]
    }
   ],
   "source": [
    "cat_cols = ['home_address', 'work_address', 'sna', 'first_time',\n",
    "            'education_ACD', 'education_GRD', 'education_PGR', 'education_SCH', 'education_UGR'\n",
    "           ]\n",
    "\n",
    "X_cat_train = OneHotEncoder(sparse=False).fit_transform(train[cat_cols].values)\n",
    "X_cat_test = OneHotEncoder(sparse=False).fit_transform(test[cat_cols].values)\n",
    "\n",
    "print(X_cat_train.shape)\n",
    "print(X_cat_test.shape)"
   ]
  },
  {
   "cell_type": "markdown",
   "metadata": {
    "papermill": {
     "duration": 0.101041,
     "end_time": "2021-01-20T19:28:54.239376",
     "exception": false,
     "start_time": "2021-01-20T19:28:54.138335",
     "status": "completed"
    },
    "tags": []
   },
   "source": [
    "# **Проверяем значимость признаков**"
   ]
  },
  {
   "cell_type": "markdown",
   "metadata": {
    "papermill": {
     "duration": 0.100923,
     "end_time": "2021-01-20T19:28:54.440837",
     "exception": false,
     "start_time": "2021-01-20T19:28:54.339914",
     "status": "completed"
    },
    "tags": []
   },
   "source": [
    "### **Значимость числовых признаков**"
   ]
  },
  {
   "cell_type": "code",
   "execution_count": 50,
   "metadata": {
    "execution": {
     "iopub.execute_input": "2021-01-20T19:28:54.655063Z",
     "iopub.status.busy": "2021-01-20T19:28:54.654318Z",
     "iopub.status.idle": "2021-01-20T19:28:54.912378Z",
     "shell.execute_reply": "2021-01-20T19:28:54.912962Z"
    },
    "papermill": {
     "duration": 0.370786,
     "end_time": "2021-01-20T19:28:54.913128",
     "exception": false,
     "start_time": "2021-01-20T19:28:54.542342",
     "status": "completed"
    },
    "tags": []
   },
   "outputs": [
    {
     "data": {
      "text/plain": [
       "Text(0.5, 0, 'F-value')"
      ]
     },
     "execution_count": 50,
     "metadata": {},
     "output_type": "execute_result"
    },
    {
     "data": {
      "image/png": "[encoded data removed]",
      "text/plain": [
       "<Figure size 864x576 with 1 Axes>"
      ]
     },
     "metadata": {
      "needs_background": "light"
     },
     "output_type": "display_data"
    }
   ],
   "source": [
    "imp_num = Series(f_classif(train[num_cols], train['default'])[0], index = num_cols)\n",
    "imp_num.sort_values(inplace = True)\n",
    "imp_num.plot(kind = 'barh')\n",
    "plt.title('Значимость числовых признаков')\n",
    "plt.xlabel('F-value')"
   ]
  },
  {
   "cell_type": "markdown",
   "metadata": {
    "papermill": {
     "duration": 0.103598,
     "end_time": "2021-01-20T19:28:55.123346",
     "exception": false,
     "start_time": "2021-01-20T19:28:55.019748",
     "status": "completed"
    },
    "tags": []
   },
   "source": [
    "### **Значимость бинарных признаков**"
   ]
  },
  {
   "cell_type": "code",
   "execution_count": 51,
   "metadata": {
    "execution": {
     "iopub.execute_input": "2021-01-20T19:28:55.339578Z",
     "iopub.status.busy": "2021-01-20T19:28:55.338866Z",
     "iopub.status.idle": "2021-01-20T19:28:55.625162Z",
     "shell.execute_reply": "2021-01-20T19:28:55.625697Z"
    },
    "papermill": {
     "duration": 0.398142,
     "end_time": "2021-01-20T19:28:55.625873",
     "exception": false,
     "start_time": "2021-01-20T19:28:55.227731",
     "status": "completed"
    },
    "tags": []
   },
   "outputs": [
    {
     "data": {
      "text/plain": [
       "Text(0.5, 1.0, 'Значимость бинарных признаков')"
      ]
     },
     "execution_count": 51,
     "metadata": {},
     "output_type": "execute_result"
    },
    {
     "data": {
      "image/png": "[encoded data removed]",
      "text/plain": [
       "<Figure size 864x576 with 1 Axes>"
      ]
     },
     "metadata": {
      "needs_background": "light"
     },
     "output_type": "display_data"
    }
   ],
   "source": [
    "imp_bin = Series(mutual_info_classif(train[bin_cols], train['default'], discrete_features =True), index = bin_cols)\n",
    "imp_bin.sort_values(inplace = True)\n",
    "imp_bin.plot(kind = 'barh')\n",
    "plt.title('Значимость бинарных признаков')"
   ]
  },
  {
   "cell_type": "markdown",
   "metadata": {
    "papermill": {
     "duration": 0.103881,
     "end_time": "2021-01-20T19:28:55.835014",
     "exception": false,
     "start_time": "2021-01-20T19:28:55.731133",
     "status": "completed"
    },
    "tags": []
   },
   "source": [
    "### **Значимость категориальных признаков**"
   ]
  },
  {
   "cell_type": "code",
   "execution_count": 52,
   "metadata": {
    "execution": {
     "iopub.execute_input": "2021-01-20T19:28:56.048563Z",
     "iopub.status.busy": "2021-01-20T19:28:56.047482Z",
     "iopub.status.idle": "2021-01-20T19:28:56.422479Z",
     "shell.execute_reply": "2021-01-20T19:28:56.423052Z"
    },
    "papermill": {
     "duration": 0.482992,
     "end_time": "2021-01-20T19:28:56.423218",
     "exception": false,
     "start_time": "2021-01-20T19:28:55.940226",
     "status": "completed"
    },
    "tags": []
   },
   "outputs": [
    {
     "data": {
      "text/plain": [
       "Text(0.5, 1.0, 'Значимость категориальных признаков')"
      ]
     },
     "execution_count": 52,
     "metadata": {},
     "output_type": "execute_result"
    },
    {
     "data": {
      "image/png": "[encoded data removed]",
      "text/plain": [
       "<Figure size 864x576 with 1 Axes>"
      ]
     },
     "metadata": {
      "needs_background": "light"
     },
     "output_type": "display_data"
    }
   ],
   "source": [
    "imp_cat = pd.Series(mutual_info_classif(train[cat_cols], train['default'],\n",
    "                                        discrete_features=True), \n",
    "                                        index=train[cat_cols].columns)\n",
    "imp_cat.sort_values(inplace=True)\n",
    "imp_cat.plot(kind='barh')\n",
    "plt.title('Значимость категориальных признаков')"
   ]
  },
  {
   "cell_type": "markdown",
   "metadata": {
    "papermill": {
     "duration": 0.120806,
     "end_time": "2021-01-20T19:28:56.673472",
     "exception": false,
     "start_time": "2021-01-20T19:28:56.552666",
     "status": "completed"
    },
    "tags": []
   },
   "source": [
    "**Исходя из данных графиков можно сделать вывод о малозначимости признака sex и age. А также мы можем увидеть значимость различных степеней образования на наш результат (наибольший вклад приносит признак education_GRD, а наименьший - education_UGR)**"
   ]
  },
  {
   "cell_type": "markdown",
   "metadata": {
    "papermill": {
     "duration": 0.105726,
     "end_time": "2021-01-20T19:28:56.883682",
     "exception": false,
     "start_time": "2021-01-20T19:28:56.777956",
     "status": "completed"
    },
    "tags": []
   },
   "source": [
    "# **Подготовка данных к машинному обучению**"
   ]
  },
  {
   "cell_type": "code",
   "execution_count": 53,
   "metadata": {
    "execution": {
     "iopub.execute_input": "2021-01-20T19:28:57.103945Z",
     "iopub.status.busy": "2021-01-20T19:28:57.102873Z",
     "iopub.status.idle": "2021-01-20T19:28:57.183630Z",
     "shell.execute_reply": "2021-01-20T19:28:57.182915Z"
    },
    "papermill": {
     "duration": 0.188593,
     "end_time": "2021-01-20T19:28:57.183750",
     "exception": false,
     "start_time": "2021-01-20T19:28:56.995157",
     "status": "completed"
    },
    "tags": []
   },
   "outputs": [],
   "source": [
    "poly = PolynomialFeatures(2)\n",
    "\n",
    "x_p_train = poly.fit_transform(train[num_cols].values)\n",
    "x_p_test = poly.fit_transform(test[num_cols].values)"
   ]
  },
  {
   "cell_type": "code",
   "execution_count": 54,
   "metadata": {
    "execution": {
     "iopub.execute_input": "2021-01-20T19:28:57.401778Z",
     "iopub.status.busy": "2021-01-20T19:28:57.400528Z",
     "iopub.status.idle": "2021-01-20T19:28:57.533267Z",
     "shell.execute_reply": "2021-01-20T19:28:57.533944Z"
    },
    "papermill": {
     "duration": 0.244742,
     "end_time": "2021-01-20T19:28:57.534118",
     "exception": false,
     "start_time": "2021-01-20T19:28:57.289376",
     "status": "completed"
    },
    "tags": []
   },
   "outputs": [
    {
     "name": "stdout",
     "output_type": "stream",
     "text": [
      "(123529, 36)\n",
      "[[ 0.          0.90869366  1.87328569 ... -0.79796579 -0.54096991\n",
      "  -0.47506091]\n",
      " [ 0.         -0.31052886  1.6618797  ... -0.71223888 -0.52381765\n",
      "  -0.47506091]\n",
      " [ 0.          0.90869366 -1.27706049 ...  0.02906722  1.77367234\n",
      "   2.13263542]\n",
      " ...\n",
      " [ 0.         -0.46820997  0.34605469 ...  0.89432053  1.28301867\n",
      "   1.12967529]\n",
      " [ 0.          0.41077539  1.0702681  ... -1.08389152 -1.94591081\n",
      "  -1.54488504]\n",
      " [ 0.          1.77256524 -0.85486176 ... -1.30489896 -0.64420676\n",
      "  -0.47506091]]\n"
     ]
    }
   ],
   "source": [
    "# Стандартизуем числовые переменные\n",
    "\n",
    "X_num_train = StandardScaler().fit_transform(x_p_train)\n",
    "print(X_num_train.shape)\n",
    "print(X_num_train)"
   ]
  },
  {
   "cell_type": "code",
   "execution_count": 55,
   "metadata": {
    "execution": {
     "iopub.execute_input": "2021-01-20T19:28:57.773449Z",
     "iopub.status.busy": "2021-01-20T19:28:57.772752Z",
     "iopub.status.idle": "2021-01-20T19:28:57.809261Z",
     "shell.execute_reply": "2021-01-20T19:28:57.808569Z"
    },
    "papermill": {
     "duration": 0.155162,
     "end_time": "2021-01-20T19:28:57.809407",
     "exception": false,
     "start_time": "2021-01-20T19:28:57.654245",
     "status": "completed"
    },
    "tags": []
   },
   "outputs": [
    {
     "name": "stdout",
     "output_type": "stream",
     "text": [
      "(36349, 36)\n",
      "[[ 0.         -0.59489561 -0.8893207  ...  0.65876759 -0.33603694\n",
      "  -0.56902243]\n",
      " [ 0.          1.18061109  0.05662535 ... -2.42274681 -1.02283448\n",
      "  -0.56902243]\n",
      " [ 0.         -0.62640549  0.96542659 ... -0.08226996 -0.48840211\n",
      "  -0.56902243]\n",
      " ...\n",
      " [ 0.         -0.84732894 -0.68843368 ...  0.93118179 -0.28165545\n",
      "  -0.56902243]\n",
      " [ 0.          1.70247893 -1.0972628  ... -0.08226996  1.53548686\n",
      "   1.90270276]\n",
      " [ 0.         -0.4375353  -0.03202919 ... -1.03545234 -0.69514878\n",
      "  -0.56902243]]\n"
     ]
    }
   ],
   "source": [
    "X_num_test = StandardScaler().fit_transform(x_p_test)\n",
    "print(X_num_test.shape)\n",
    "print(X_num_test)"
   ]
  },
  {
   "cell_type": "markdown",
   "metadata": {
    "papermill": {
     "duration": 0.106617,
     "end_time": "2021-01-20T19:28:58.023606",
     "exception": false,
     "start_time": "2021-01-20T19:28:57.916989",
     "status": "completed"
    },
    "tags": []
   },
   "source": [
    "**Объединим стандартизованные числовые, бинарные и закодированные категориальные переменные в одно признаковое пространство, разделив при этом признаки и целевую переменную**"
   ]
  },
  {
   "cell_type": "code",
   "execution_count": 56,
   "metadata": {
    "execution": {
     "iopub.execute_input": "2021-01-20T19:28:58.240783Z",
     "iopub.status.busy": "2021-01-20T19:28:58.240011Z",
     "iopub.status.idle": "2021-01-20T19:28:58.298373Z",
     "shell.execute_reply": "2021-01-20T19:28:58.299007Z"
    },
    "papermill": {
     "duration": 0.169865,
     "end_time": "2021-01-20T19:28:58.299169",
     "exception": false,
     "start_time": "2021-01-20T19:28:58.129304",
     "status": "completed"
    },
    "tags": []
   },
   "outputs": [],
   "source": [
    "X = np.hstack([X_num_train, train[bin_cols].values, X_cat_train])\n",
    "Y = train['default'].values\n",
    "\n",
    "id_test = test['client_id']\n",
    "test = np.hstack([X_num_test, test[bin_cols].values, X_cat_test])"
   ]
  },
  {
   "cell_type": "code",
   "execution_count": 57,
   "metadata": {
    "execution": {
     "iopub.execute_input": "2021-01-20T19:28:58.518602Z",
     "iopub.status.busy": "2021-01-20T19:28:58.517888Z",
     "iopub.status.idle": "2021-01-20T19:28:58.561995Z",
     "shell.execute_reply": "2021-01-20T19:28:58.562624Z"
    },
    "papermill": {
     "duration": 0.156632,
     "end_time": "2021-01-20T19:28:58.562790",
     "exception": false,
     "start_time": "2021-01-20T19:28:58.406158",
     "status": "completed"
    },
    "tags": []
   },
   "outputs": [],
   "source": [
    "X_train, X_test, y_train, y_test = train_test_split(X, Y, test_size=0.30, random_state=RANDOM_SEED, shuffle=True)"
   ]
  },
  {
   "cell_type": "markdown",
   "metadata": {
    "papermill": {
     "duration": 0.123505,
     "end_time": "2021-01-20T19:28:58.796245",
     "exception": false,
     "start_time": "2021-01-20T19:28:58.672740",
     "status": "completed"
    },
    "tags": []
   },
   "source": [
    "# **Подбор гиперпараметров (регуляризация)**"
   ]
  },
  {
   "cell_type": "code",
   "execution_count": 58,
   "metadata": {
    "execution": {
     "iopub.execute_input": "2021-01-20T19:28:59.033514Z",
     "iopub.status.busy": "2021-01-20T19:28:59.032822Z",
     "iopub.status.idle": "2021-01-20T19:30:03.203071Z",
     "shell.execute_reply": "2021-01-20T19:30:03.203890Z"
    },
    "papermill": {
     "duration": 64.292466,
     "end_time": "2021-01-20T19:30:03.204075",
     "exception": false,
     "start_time": "2021-01-20T19:28:58.911609",
     "status": "completed"
    },
    "tags": []
   },
   "outputs": [
    {
     "name": "stdout",
     "output_type": "stream",
     "text": [
      "Лучший penalty: l2\n",
      "Лучшее C: 59.94842503189409\n"
     ]
    }
   ],
   "source": [
    "# Зададим ограничения для параметра регуляризации\n",
    "C = np.logspace(0, 4, 10)\n",
    "\n",
    "penalty = ['l1', 'l2']\n",
    "hyperparameters = dict(C=C, penalty=penalty)\n",
    "\n",
    "model = LogisticRegression()\n",
    "model.fit(X_train, y_train)\n",
    "\n",
    "clf = GridSearchCV(model, hyperparameters, cv=5, verbose=0)\n",
    "\n",
    "best_model = clf.fit(X_train, y_train)\n",
    "\n",
    "print('Лучший penalty:', best_model.best_estimator_.get_params()['penalty'])\n",
    "print('Лучшее C:', best_model.best_estimator_.get_params()['C'])"
   ]
  },
  {
   "cell_type": "markdown",
   "metadata": {
    "papermill": {
     "duration": 0.108714,
     "end_time": "2021-01-20T19:30:03.421971",
     "exception": false,
     "start_time": "2021-01-20T19:30:03.313257",
     "status": "completed"
    },
    "tags": []
   },
   "source": [
    "# **Обучение модели и расчет метрик**"
   ]
  },
  {
   "cell_type": "code",
   "execution_count": 59,
   "metadata": {
    "execution": {
     "iopub.execute_input": "2021-01-20T19:30:03.655340Z",
     "iopub.status.busy": "2021-01-20T19:30:03.654092Z",
     "iopub.status.idle": "2021-01-20T19:30:12.722433Z",
     "shell.execute_reply": "2021-01-20T19:30:12.721685Z"
    },
    "papermill": {
     "duration": 9.185693,
     "end_time": "2021-01-20T19:30:12.722596",
     "exception": false,
     "start_time": "2021-01-20T19:30:03.536903",
     "status": "completed"
    },
    "tags": []
   },
   "outputs": [
    {
     "data": {
      "text/plain": [
       "LogisticRegression(C=59.94842503189409, max_iter=800)"
      ]
     },
     "execution_count": 59,
     "metadata": {},
     "output_type": "execute_result"
    }
   ],
   "source": [
    "# Обучим модель\n",
    "\n",
    "model = LogisticRegression(penalty='l2', C=59.94842503189409, max_iter=800)\n",
    "model.fit(X_train, y_train)"
   ]
  },
  {
   "cell_type": "code",
   "execution_count": 60,
   "metadata": {
    "execution": {
     "iopub.execute_input": "2021-01-20T19:30:12.950715Z",
     "iopub.status.busy": "2021-01-20T19:30:12.949149Z",
     "iopub.status.idle": "2021-01-20T19:30:13.191774Z",
     "shell.execute_reply": "2021-01-20T19:30:13.191124Z"
    },
    "papermill": {
     "duration": 0.359954,
     "end_time": "2021-01-20T19:30:13.191981",
     "exception": false,
     "start_time": "2021-01-20T19:30:12.832027",
     "status": "completed"
    },
    "tags": []
   },
   "outputs": [
    {
     "data": {
      "image/png": "[encoded data removed]",
      "text/plain": [
       "<Figure size 864x576 with 1 Axes>"
      ]
     },
     "metadata": {
      "needs_background": "light"
     },
     "output_type": "display_data"
    }
   ],
   "source": [
    "# Посмотрим ROC кривую\n",
    "\n",
    "probs = model.predict_proba(X_test)\n",
    "probs = probs[:, 1]\n",
    "\n",
    "\n",
    "fpr, tpr, threshold = roc_curve(y_test, probs)\n",
    "roc_auc = roc_auc_score(y_test, probs)\n",
    "\n",
    "# Визуализация ROC AUC\n",
    "plt.figure()\n",
    "plt.plot([0, 1], label='Baseline', linestyle='--')\n",
    "plt.plot(fpr, tpr, label='Regression')\n",
    "plt.title('Logistic Regression ROC AUC = %0.3f' % roc_auc)\n",
    "plt.ylabel('True Positive Rate')\n",
    "plt.xlabel('False Positive Rate')\n",
    "plt.legend(loc='lower right')\n",
    "plt.show()"
   ]
  },
  {
   "cell_type": "markdown",
   "metadata": {
    "papermill": {
     "duration": 0.108999,
     "end_time": "2021-01-20T19:30:13.422547",
     "exception": false,
     "start_time": "2021-01-20T19:30:13.313548",
     "status": "completed"
    },
    "tags": []
   },
   "source": [
    "### **Обучим модель на всем датасете**"
   ]
  },
  {
   "cell_type": "code",
   "execution_count": 61,
   "metadata": {
    "execution": {
     "iopub.execute_input": "2021-01-20T19:30:13.681484Z",
     "iopub.status.busy": "2021-01-20T19:30:13.680104Z",
     "iopub.status.idle": "2021-01-20T19:30:27.024436Z",
     "shell.execute_reply": "2021-01-20T19:30:27.025032Z"
    },
    "papermill": {
     "duration": 13.485251,
     "end_time": "2021-01-20T19:30:27.025192",
     "exception": false,
     "start_time": "2021-01-20T19:30:13.539941",
     "status": "completed"
    },
    "tags": []
   },
   "outputs": [],
   "source": [
    "model = LogisticRegression(penalty='l2', C=59.94842503189409, max_iter=800)\n",
    "model.fit(X, Y)\n",
    "probs = model.predict_proba(test)\n",
    "probs = probs[:, 1]"
   ]
  },
  {
   "cell_type": "markdown",
   "metadata": {
    "papermill": {
     "duration": 0.109765,
     "end_time": "2021-01-20T19:30:27.248344",
     "exception": false,
     "start_time": "2021-01-20T19:30:27.138579",
     "status": "completed"
    },
    "tags": []
   },
   "source": [
    "#### **Cоздаём экземпляр таблицы с предсказаниями, чтобы выложить его на kaggle**"
   ]
  },
  {
   "cell_type": "code",
   "execution_count": 62,
   "metadata": {
    "execution": {
     "iopub.execute_input": "2021-01-20T19:30:27.473964Z",
     "iopub.status.busy": "2021-01-20T19:30:27.473219Z",
     "iopub.status.idle": "2021-01-20T19:30:27.967008Z",
     "shell.execute_reply": "2021-01-20T19:30:27.966209Z"
    },
    "papermill": {
     "duration": 0.60959,
     "end_time": "2021-01-20T19:30:27.967135",
     "exception": false,
     "start_time": "2021-01-20T19:30:27.357545",
     "status": "completed"
    },
    "tags": []
   },
   "outputs": [
    {
     "data": {
      "text/html": [
       "<div>\n",
       "<style scoped>\n",
       "    .dataframe tbody tr th:only-of-type {\n",
       "        vertical-align: middle;\n",
       "    }\n",
       "\n",
       "    .dataframe tbody tr th {\n",
       "        vertical-align: top;\n",
       "    }\n",
       "\n",
       "    .dataframe thead th {\n",
       "        text-align: right;\n",
       "    }\n",
       "</style>\n",
       "<table border=\"1\" class=\"dataframe\">\n",
       "  <thead>\n",
       "    <tr style=\"text-align: right;\">\n",
       "      <th></th>\n",
       "      <th>client_id</th>\n",
       "      <th>default</th>\n",
       "    </tr>\n",
       "  </thead>\n",
       "  <tbody>\n",
       "    <tr>\n",
       "      <th>0</th>\n",
       "      <td>74835</td>\n",
       "      <td>0.234276</td>\n",
       "    </tr>\n",
       "    <tr>\n",
       "      <th>1</th>\n",
       "      <td>17527</td>\n",
       "      <td>0.868674</td>\n",
       "    </tr>\n",
       "    <tr>\n",
       "      <th>2</th>\n",
       "      <td>75683</td>\n",
       "      <td>0.363836</td>\n",
       "    </tr>\n",
       "    <tr>\n",
       "      <th>3</th>\n",
       "      <td>26883</td>\n",
       "      <td>0.420354</td>\n",
       "    </tr>\n",
       "    <tr>\n",
       "      <th>4</th>\n",
       "      <td>28862</td>\n",
       "      <td>0.139373</td>\n",
       "    </tr>\n",
       "    <tr>\n",
       "      <th>...</th>\n",
       "      <td>...</td>\n",
       "      <td>...</td>\n",
       "    </tr>\n",
       "    <tr>\n",
       "      <th>36344</th>\n",
       "      <td>83775</td>\n",
       "      <td>0.830410</td>\n",
       "    </tr>\n",
       "    <tr>\n",
       "      <th>36345</th>\n",
       "      <td>106254</td>\n",
       "      <td>0.103740</td>\n",
       "    </tr>\n",
       "    <tr>\n",
       "      <th>36346</th>\n",
       "      <td>81852</td>\n",
       "      <td>0.796193</td>\n",
       "    </tr>\n",
       "    <tr>\n",
       "      <th>36347</th>\n",
       "      <td>1971</td>\n",
       "      <td>0.713162</td>\n",
       "    </tr>\n",
       "    <tr>\n",
       "      <th>36348</th>\n",
       "      <td>69044</td>\n",
       "      <td>0.749232</td>\n",
       "    </tr>\n",
       "  </tbody>\n",
       "</table>\n",
       "<p>36349 rows × 2 columns</p>\n",
       "</div>"
      ],
      "text/plain": [
       "       client_id   default\n",
       "0          74835  0.234276\n",
       "1          17527  0.868674\n",
       "2          75683  0.363836\n",
       "3          26883  0.420354\n",
       "4          28862  0.139373\n",
       "...          ...       ...\n",
       "36344      83775  0.830410\n",
       "36345     106254  0.103740\n",
       "36346      81852  0.796193\n",
       "36347       1971  0.713162\n",
       "36348      69044  0.749232\n",
       "\n",
       "[36349 rows x 2 columns]"
      ]
     },
     "execution_count": 62,
     "metadata": {},
     "output_type": "execute_result"
    }
   ],
   "source": [
    "my_submission = pd.DataFrame({'client_id': id_test, \n",
    "                            'default': probs})\n",
    "my_submission.to_csv('submission.csv', index=False)\n",
    "\n",
    "my_submission"
   ]
  },
  {
   "cell_type": "code",
   "execution_count": null,
   "metadata": {
    "papermill": {
     "duration": 0.109602,
     "end_time": "2021-01-20T19:30:28.187612",
     "exception": false,
     "start_time": "2021-01-20T19:30:28.078010",
     "status": "completed"
    },
    "tags": []
   },
   "outputs": [],
   "source": []
  }
 ],
 "metadata": {
  "kernelspec": {
   "display_name": "Python 3",
   "language": "python",
   "name": "python3"
  },
  "language_info": {
   "codemirror_mode": {
    "name": "ipython",
    "version": 3
   },
   "file_extension": ".py",
   "mimetype": "text/x-python",
   "name": "python",
   "nbconvert_exporter": "python",
   "pygments_lexer": "ipython3",
   "version": "3.7.6"
  },
  "papermill": {
   "duration": 133.582648,
   "end_time": "2021-01-20T19:30:28.407132",
   "environment_variables": {},
   "exception": null,
   "input_path": "__notebook__.ipynb",
   "output_path": "__notebook__.ipynb",
   "parameters": {},
   "start_time": "2021-01-20T19:28:14.824484",
   "version": "2.1.0"
  }
 },
 "nbformat": 4,
 "nbformat_minor": 4
}
