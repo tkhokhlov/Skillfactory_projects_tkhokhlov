{
 "cells": [
  {
   "cell_type": "markdown",
   "metadata": {},
   "source": [
    "# Загрузка Pandas и очистка данных"
   ]
  },
  {
   "cell_type": "code",
   "execution_count": 1,
   "metadata": {},
   "outputs": [],
   "source": [
    "import pandas as pd\n",
    "import re\n",
    "from datetime import datetime, date, time"
   ]
  },
  {
   "cell_type": "code",
   "execution_count": 2,
   "metadata": {},
   "outputs": [
    {
     "name": "stdout",
     "output_type": "stream",
     "text": [
      "<class 'pandas.core.frame.DataFrame'>\n",
      "RangeIndex: 40000 entries, 0 to 39999\n",
      "Data columns (total 10 columns):\n",
      " #   Column             Non-Null Count  Dtype  \n",
      "---  ------             --------------  -----  \n",
      " 0   Restaurant_id      40000 non-null  object \n",
      " 1   City               40000 non-null  object \n",
      " 2   Cuisine Style      30717 non-null  object \n",
      " 3   Ranking            40000 non-null  float64\n",
      " 4   Rating             40000 non-null  float64\n",
      " 5   Price Range        26114 non-null  object \n",
      " 6   Number of Reviews  37457 non-null  float64\n",
      " 7   Reviews            40000 non-null  object \n",
      " 8   URL_TA             40000 non-null  object \n",
      " 9   ID_TA              40000 non-null  object \n",
      "dtypes: float64(3), object(7)\n",
      "memory usage: 3.1+ MB\n"
     ]
    }
   ],
   "source": [
    "data = pd.read_csv('main_task.csv')\n",
    "data.info()"
   ]
  },
  {
   "cell_type": "code",
   "execution_count": 3,
   "metadata": {},
   "outputs": [],
   "source": [
    "\"\"\"Заменим значение колонки \"Price Range\" на числовые: NaN - 0, '$' - 1, '$$ - $$$' - 2, '$$$$' - 3\"\"\"\n",
    "data['Price Range'] = data['Price Range'].apply(lambda x: 1 if x == '$' else (2 if x == '$$ - $$$' else (3 if x == '$$$$' else 0)))"
   ]
  },
  {
   "cell_type": "code",
   "execution_count": 4,
   "metadata": {},
   "outputs": [],
   "source": [
    "\"\"\"По каждому типу кухни создадим отдельный признак, показывающий наличие в ресторане данного типа кухни\"\"\"\n",
    "# Так как все рестораны расположены в городах Европы, то заменим пустое значение в колонке Cuisine Style на ['European']\n",
    "data['Cuisine Style'].fillna(\"['European']\", inplace=True)\n",
    "cuisine_styles = set() #создаем пустое множество, куда сохраним все уникальные значения типов кухонь\n",
    "    \n",
    "for item in data['Cuisine Style'].apply(lambda x: str(x)[2:-2]):\n",
    "    for cuisine_style in item.split(\"', '\"):\n",
    "        cuisine_styles.add(cuisine_style)\n",
    "    \n",
    "cuisine_styles.discard('') #удаляем пустое значение из полуившегося множества\n",
    "\n",
    "# Создаем в dataframe колонки с названиями типов кухонь и заполняем 1 в случае, если такой тип кухни есть в ресторане\n",
    "for item in cuisine_styles:\n",
    "    data[item] = data['Cuisine Style'].apply(lambda x: 1 if item in str(x)[2:-2] else 0)"
   ]
  },
  {
   "cell_type": "code",
   "execution_count": 5,
   "metadata": {},
   "outputs": [],
   "source": [
    "\"\"\"Заменим в колонке Cuisine Style значения на количество типов кухонь в данном ресторане, если информации нет, то запишем 1\"\"\"\n",
    "data['Cuisine Style'] = data['Cuisine Style'].apply(lambda x: len(str(x).split(\"', '\")) if not pd.isna(x) else 1)"
   ]
  },
  {
   "cell_type": "code",
   "execution_count": 6,
   "metadata": {},
   "outputs": [],
   "source": [
    "\"\"\"Создаем в датасэте колонки с названиями городов и заполняем 1 в случае, если ресторан находится в текущем городе\"\"\"\n",
    "data = pd.get_dummies(data, columns=['City'], dummy_na=True)\n",
    "data = data.drop(['City_nan'], axis = 1) #удалим признак, так как все его значения равны 0"
   ]
  },
  {
   "cell_type": "code",
   "execution_count": 7,
   "metadata": {},
   "outputs": [],
   "source": [
    "\"\"\"Обработаем данные об отзывах. Разнесем отзывы на отдельные колонки датасета, заполним пропуски в Number of Reviews\"\"\"\n",
    "# С помощью регулярных выражений достанем отзывы и поместим их в колнки review_1 и review_2\n",
    "data['review_1'] = data['Reviews'].apply(lambda x: str(re.findall(r'\\[\\[\\'[a-zA-Z0-9_ ,.!?()`´+-=*:;]*\\'', x))[5:-3])\n",
    "data['review_2'] = data['Reviews'].apply(lambda x: str(re.findall(r', \\'[a-zA-Z0-9_ ,.!?()`´+-=*:;]*\\'\\],', x))[5:-5])\n",
    "\n",
    "# Напишем функцию, которая заполнит пропуски в столбце Number of Reviews.\n",
    "# Если нет отзывов - 0, если есть хотя бы один отзыв - 1, если есть два отзыва - 2\n",
    "def number_of_reviews_fillna(df):\n",
    "    if pd.isna(df['Number of Reviews']):\n",
    "        if df['review_1'] == '':\n",
    "            df['Number of Reviews'] = 0\n",
    "        elif  df['review_2'] == '':\n",
    "            df['Number of Reviews'] = 1\n",
    "        else:\n",
    "            df['Number of Reviews'] = 2\n",
    "    return df\n",
    "\n",
    "# Применим функцию к нашему датасету\n",
    "data = data.apply(number_of_reviews_fillna, axis = 1)"
   ]
  },
  {
   "cell_type": "code",
   "execution_count": 8,
   "metadata": {},
   "outputs": [],
   "source": [
    "\"\"\"Создим признак, показывающий разницу между датами отзывов в днях\"\"\"\n",
    "# С помощью регулярных выражений достанем даты отзывов и поместим их в колнки review_date_1 и review_date_2\n",
    "data['review_date_1'] = data['Reviews'].apply(lambda x: str(re.findall(r'\\[\\'\\d\\d/\\d\\d/\\d\\d\\d\\d\\'', x))[4:-3])\n",
    "data['review_date_2'] = data['Reviews'].apply(lambda x: str(re.findall(r'\\'\\d\\d/\\d\\d/\\d\\d\\d\\d\\'\\]', x))[3:-4])\n",
    "    \n",
    "# Переведем полученные данные в datetime\n",
    "data['review_date_1'] = data['review_date_1'].apply(lambda x: datetime.strptime(x, '%m/%d/%Y')if x !='' else x) \n",
    "data['review_date_2'] = data['review_date_2'].apply(lambda x: datetime.strptime(x, '%m/%d/%Y')if x !='' else x)\n",
    "\n",
    "# Сгенерируем новый признак\n",
    "data['review_date_delta'] = (data['review_date_1'] - data['review_date_2'])\n",
    "data['review_date_delta'] = data['review_date_delta'].apply(lambda x: abs(int(x.days)) if not pd.isna(x) else 0)"
   ]
  },
  {
   "cell_type": "code",
   "execution_count": 9,
   "metadata": {},
   "outputs": [
    {
     "name": "stdout",
     "output_type": "stream",
     "text": [
      "<class 'pandas.core.frame.DataFrame'>\n",
      "RangeIndex: 40000 entries, 0 to 39999\n",
      "Columns: 170 entries, Restaurant_id to review_date_delta\n",
      "dtypes: datetime64[ns](2), float64(3), int64(159), object(6)\n",
      "memory usage: 51.9+ MB\n"
     ]
    }
   ],
   "source": [
    "data.info()"
   ]
  },
  {
   "cell_type": "code",
   "execution_count": 10,
   "metadata": {},
   "outputs": [],
   "source": [
    "\"\"\"Удалим все нечисловые столбцы\"\"\"\n",
    "data = data.drop(['Restaurant_id', 'Reviews', 'review_1', 'review_2', 'URL_TA', 'ID_TA', 'review_date_1', 'review_date_2'], axis = 1)"
   ]
  },
  {
   "cell_type": "code",
   "execution_count": 11,
   "metadata": {},
   "outputs": [
    {
     "name": "stdout",
     "output_type": "stream",
     "text": [
      "<class 'pandas.core.frame.DataFrame'>\n",
      "RangeIndex: 40000 entries, 0 to 39999\n",
      "Columns: 162 entries, Cuisine Style to review_date_delta\n",
      "dtypes: float64(3), int64(159)\n",
      "memory usage: 49.4 MB\n"
     ]
    }
   ],
   "source": [
    "data.info()"
   ]
  },
  {
   "cell_type": "markdown",
   "metadata": {},
   "source": [
    "# Разбиваем датафрейм на части, необходимые для обучения и тестирования модели"
   ]
  },
  {
   "cell_type": "code",
   "execution_count": 12,
   "metadata": {},
   "outputs": [],
   "source": [
    "# Х - данные с информацией о ресторанах, у - целевая переменная (рейтинги ресторанов)\n",
    "X = data.drop(['Rating'], axis = 1)\n",
    "y = data['Rating']"
   ]
  },
  {
   "cell_type": "code",
   "execution_count": 13,
   "metadata": {},
   "outputs": [],
   "source": [
    "# Загружаем специальный инструмент для разбивки:\n",
    "from sklearn.model_selection import train_test_split"
   ]
  },
  {
   "cell_type": "code",
   "execution_count": 14,
   "metadata": {},
   "outputs": [],
   "source": [
    "# Наборы данных с меткой \"train\" будут использоваться для обучения модели, \"test\" - для тестирования.\n",
    "# Для тестирования мы будем использовать 25% от исходного датасета.\n",
    "X_train, X_test, y_train, y_test = train_test_split(X, y, test_size=0.25)"
   ]
  },
  {
   "cell_type": "markdown",
   "metadata": {},
   "source": [
    "# Создаём, обучаем и тестируем модель"
   ]
  },
  {
   "cell_type": "code",
   "execution_count": 15,
   "metadata": {},
   "outputs": [],
   "source": [
    "# Импортируем необходимые библиотеки:\n",
    "from sklearn.ensemble import RandomForestRegressor # инструмент для создания и обучения модели\n",
    "from sklearn import metrics # инструменты для оценки точности модели"
   ]
  },
  {
   "cell_type": "code",
   "execution_count": 16,
   "metadata": {},
   "outputs": [],
   "source": [
    "# Создаём модель\n",
    "regr = RandomForestRegressor(n_estimators=100)\n",
    "\n",
    "# Обучаем модель на тестовом наборе данных\n",
    "regr.fit(X_train, y_train)\n",
    "\n",
    "# Используем обученную модель для предсказания рейтинга ресторанов в тестовой выборке.\n",
    "# Предсказанные значения записываем в переменную y_pred\n",
    "y_pred = regr.predict(X_test)"
   ]
  },
  {
   "cell_type": "code",
   "execution_count": 17,
   "metadata": {},
   "outputs": [
    {
     "name": "stdout",
     "output_type": "stream",
     "text": [
      "MAE: 0.21205349999999998\n"
     ]
    }
   ],
   "source": [
    "# Сравниваем предсказанные значения (y_pred) с реальными (y_test), и смотрим насколько они в среднем отличаются\n",
    "# Метрика называется Mean Absolute Error (MAE) и показывает среднее отклонение предсказанных значений от фактических.\n",
    "print('MAE:', metrics.mean_absolute_error(y_test, y_pred))"
   ]
  },
  {
   "cell_type": "code",
   "execution_count": null,
   "metadata": {},
   "outputs": [],
   "source": []
  }
 ],
 "metadata": {
  "kernelspec": {
   "display_name": "Python 3",
   "language": "python",
   "name": "python3"
  },
  "language_info": {
   "codemirror_mode": {
    "name": "ipython",
    "version": 3
   },
   "file_extension": ".py",
   "mimetype": "text/x-python",
   "name": "python",
   "nbconvert_exporter": "python",
   "pygments_lexer": "ipython3",
   "version": "3.7.6"
  }
 },
 "nbformat": 4,
 "nbformat_minor": 2
}
